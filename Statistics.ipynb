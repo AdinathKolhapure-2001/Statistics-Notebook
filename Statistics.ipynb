{
 "cells": [
  {
   "cell_type": "code",
   "execution_count": 1,
   "id": "09810f5e-6311-4edf-bbee-513f08b2161d",
   "metadata": {},
   "outputs": [
    {
     "name": "stdout",
     "output_type": "stream",
     "text": [
      "Selected Jupyter core packages...\n",
      "IPython          : 8.19.0\n",
      "ipykernel        : 6.28.0\n",
      "ipywidgets       : 8.1.1\n",
      "jupyter_client   : 8.6.0\n",
      "jupyter_core     : 5.5.1\n",
      "jupyter_server   : 2.12.1\n",
      "jupyterlab       : 4.0.11\n",
      "nbclient         : 0.9.0\n",
      "nbconvert        : 7.13.1\n",
      "nbformat         : 5.9.2\n",
      "notebook         : 7.0.6\n",
      "qtconsole        : 5.5.1\n",
      "traitlets        : 5.14.0\n"
     ]
    }
   ],
   "source": [
    "!jupyter --version"
   ]
  },
  {
   "cell_type": "markdown",
   "id": "fb47def7",
   "metadata": {},
   "source": [
    "# **Statistics for ML**\n",
    "---"
   ]
  },
  {
   "cell_type": "markdown",
   "id": "e00dbf21-0343-4bc8-9191-23d3a7dc62fa",
   "metadata": {},
   "source": [
    "Statistics is used in all kinds of science and business applications to analyse the data.  \n",
    "Statistics gives us more accurate knowledge which helps us make better decisions.  \n",
    "Statistics can focus on making predictions about what will happen in the future.   \n",
    "It can also focus on explaining how different things are connected."
   ]
  },
  {
   "cell_type": "markdown",
   "id": "8b731d8d",
   "metadata": {},
   "source": [
    "## **Types of Data**\n",
    "---"
   ]
  },
  {
   "cell_type": "markdown",
   "id": "41c57c73-1a50-47fd-a379-81ed3618f374",
   "metadata": {},
   "source": [
    "### **Qualitative Data or Categorical Data**\n",
    "Information about something that can be sorted into different categories that can't be described directly by numbers.  \n",
    "Examples: Brands, Nationality, Professions, Gender  \n",
    "There are two types of qualitative data viz. Nominal and Ordinal Data"
   ]
  },
  {
   "cell_type": "markdown",
   "id": "ca2296d7-a62b-49a5-96b8-7cff76d231be",
   "metadata": {
    "jp-MarkdownHeadingCollapsed": true
   },
   "source": [
    "#### Nominal Data\n",
    "This type of data consists of categories or labels that do not have any inherent numerical value.   \n",
    "Examples include gender (male, female), colors (red, blue, green), and types of animals (dog, cat, bird).\n",
    "\n",
    "#### Ordinal Data\n",
    "Ordinal data is similar to nominal data but has a natural order or ranking between categories. However, the differences between the categories may not be uniform or quantifiable.   \n",
    "Examples include educational levels (elementary, high school, college), rating scales (poor, fair, good, excellent), or socioeconomic status (low, middle, high)."
   ]
  },
  {
   "cell_type": "markdown",
   "id": "b5ebc4f5-689f-4d77-8acd-7575f97d3d6d",
   "metadata": {},
   "source": [
    "### **Quantitative Data or Numerical Data**\n",
    "Information about something that is described by numbers.  \n",
    "Examples:Income, Age, Height, Weight"
   ]
  },
  {
   "cell_type": "markdown",
   "id": "018e4ad0-ac58-4a25-9de3-72b3c1861c30",
   "metadata": {},
   "source": [
    "#### Discrete Data\n",
    "Discrete data consists of whole numbers or countable values and cannot take on any value within a specific range.   \n",
    "Examples: include the number of siblings a person has or the number of cars in a\n",
    "parking lot.\n",
    "\n",
    "#### Continous Data\n",
    "Continuous data can take any value within a specific range and is often measured on a continuous scale.  \n",
    "Examples: include temperature measured in decimals, weight measured on a scale, or\n",
    "height measured with precision."
   ]
  },
  {
   "cell_type": "markdown",
   "id": "cc03cf44-8279-4e7a-a9da-be044509994c",
   "metadata": {},
   "source": [
    "#### Few Other Types of Data \n",
    "**Interval Data:**   \n",
    "Interval data has an ordered scale with equal interval between values, but it lacks a true zero point. The absence of a zero means that ratios between values are not meaningful.   \n",
    "Examples:  \n",
    "temperature measured in Celsius or Fahrenheit, where zero doesn't signify the complete absence of temperature.\n",
    "\n",
    "**Ratio Data:**   \n",
    "Ratio data is similar to interval data but has an absolutes zero point, making ratios between values meaningful.     \n",
    "A value of zero in ratio data indicates the complete absence of the attribute being measured.  \n",
    "Examples:     \n",
    "include weight, height, age, and income."
   ]
  },
  {
   "cell_type": "markdown",
   "id": "51a99b66-d82e-4c51-bfd6-de3ba0ea4aba",
   "metadata": {},
   "source": [
    "## **Types of Statistics**\n",
    "---"
   ]
  },
  {
   "cell_type": "markdown",
   "id": "a9232b11-1edf-485f-a582-ad7d526c6960",
   "metadata": {},
   "source": [
    "\n",
    "### Descriptive Statistics\n",
    "Descriptive statistics are useful because they allow you to understand a group of data much more quickly and easily compared to just staring at rows and rows of raw data values.  \n",
    "For example, suppose we have a set of raw data that shows the test scores of 1,000 students at a particular school. We might be interested in the average test score along with the distribution of test scores.  \n",
    "Using descriptive statistics, we could find the average score and create a graph that helps us visualize the distribution of score\n",
    "\n",
    "### Inferential Statistics\n",
    "Inferential statistics uses a small sample of data to draw inferences about the larger population that the sample came from.    \n",
    "For example, we might be interested in understanding the political preferences of millions of people in a country.    \n",
    "However, it would take too long and be too expensive to actually survey every individual in the country.   \n",
    "Thus, we would instead take a smaller survey of say, 1,000 Americans, and use the results of the survey to draw inferences about the population as a whole."
   ]
  },
  {
   "cell_type": "markdown",
   "id": "1911f3fa-9d6f-440b-8ddf-171a2f606359",
   "metadata": {},
   "source": [
    "![Types of Statistics](img/typesofstats.png)"
   ]
  },
  {
   "cell_type": "code",
   "execution_count": 1,
   "id": "3957efff-e836-437b-b7d2-99670725f8dc",
   "metadata": {},
   "outputs": [],
   "source": [
    "import numpy as np\n",
    "import seaborn as sns\n",
    "import matplotlib.pyplot as plt\n",
    "from scipy.stats import geom, bernoulli\n",
    "import statistics as st\n",
    "import warnings\n",
    "warnings.filterwarnings('ignore')"
   ]
  },
  {
   "cell_type": "code",
   "execution_count": 2,
   "id": "d5c89ea1-ec50-493c-a17f-1ffec36b0502",
   "metadata": {},
   "outputs": [
    {
     "data": {
      "text/plain": [
       "array([64, 28, 54, 72, 18, 74, 87, 18, 43, 65, 62, 17, 91, 82, 55,  9, 71,\n",
       "       16, 60, 92, 30, 93, 78, 81, 94, 82, 44, 20, 28, 32, 98, 10, 58, 84,\n",
       "       66, 52, 17, 19, 37, 97, 70, 97, 50, 63, 17, 64, 91, 99, 50, 78,  2,\n",
       "       83, 95, 91, 70, 90, 80, 63,  7, 82,  7, 70, 56, 82, 59, 90, 58, 67,\n",
       "       61, 94, 45, 78, 80, 44, 77, 57, 52, 28, 26, 92, 90, 30, 74, 91, 93,\n",
       "       89, 23, 22, 21, 21, 93,  3, 23, 92, 50, 87,  5, 71, 61, 21, 48, 79,\n",
       "       11, 95, 84, 77, 14,  9, 74, 44,  4, 37, 95, 13, 63, 32, 48, 23, 59,\n",
       "       19, 12, 42, 16, 13, 63, 59, 29, 30, 45, 62, 34,  6, 44, 55, 26, 34,\n",
       "       93, 19, 90, 51, 11, 47, 71, 95,  1, 84, 57, 85, 66, 10, 85, 93, 69,\n",
       "       14, 24,  8, 62, 23, 67, 35, 94, 15, 45, 71, 71, 75, 54, 75, 94, 73,\n",
       "       44, 72, 62, 88, 38, 55, 54, 86, 79, 76, 11, 58, 61, 76, 86, 44, 10,\n",
       "       11, 95, 33, 56, 27, 53, 39, 84, 37, 88,  9, 85, 27, 38, 11, 47, 90,\n",
       "       38, 85, 61, 31, 42,  6, 80, 82, 73, 19,  8, 20, 69, 72, 53, 38, 12,\n",
       "       90, 11, 22, 70, 64, 82,  3, 12, 71, 39, 97, 31, 20, 66, 28, 73, 38,\n",
       "        9, 78, 54, 75, 39, 64, 95,  9, 43, 56, 14, 12, 86, 70, 88, 40, 81,\n",
       "       36, 49, 28, 39, 81, 93, 90, 31, 85, 26, 13, 55, 42, 58, 37, 71, 65,\n",
       "       39, 49, 75, 75, 68, 65, 83, 26, 35,  4, 43, 64, 29,  9, 53, 86, 43,\n",
       "       19, 17, 16, 70, 71, 63, 39, 63, 53,  8, 98, 26, 33, 65, 46, 77,  3,\n",
       "       21, 11, 59, 68, 53, 20, 16, 26, 82, 98,  2, 24, 26, 84, 95, 47, 58,\n",
       "       91, 18, 98, 79, 97, 77, 11, 72,  8, 52, 75, 39, 53, 13, 74, 46, 62,\n",
       "       45, 69, 49, 35, 36,  7, 79, 82, 49, 29, 92, 92, 13, 70, 31, 17, 97,\n",
       "        7, 50, 62, 30, 83, 99, 14,  6, 20, 95, 94,  3, 73, 11, 72, 71, 81,\n",
       "       28, 39, 57, 96, 42, 95, 21, 25, 98, 39, 57, 16, 19, 25, 85, 40, 47,\n",
       "       82, 20, 14, 54, 98, 27, 88, 59, 34,  5, 62, 32, 19, 77, 97, 99, 32,\n",
       "       31, 12, 98, 77, 17, 44, 36, 72, 10, 64, 90,  3, 34, 31, 61,  2, 56,\n",
       "       25, 65, 53, 65,  3, 93, 14, 87, 83, 86, 65, 21, 32, 54, 65, 33, 27,\n",
       "       26, 27, 16, 24, 55, 32, 39, 12, 90, 52, 44, 56, 38, 24, 19, 20, 47,\n",
       "       84, 48, 95, 25, 50, 17, 61,  8, 24, 45, 87, 47, 37,  6, 98, 97, 85,\n",
       "       85, 57, 30, 44, 25, 60, 54, 61, 34, 26, 99, 97,  6, 91, 35, 42, 66,\n",
       "       73, 45, 12, 48, 23, 52, 17])"
      ]
     },
     "execution_count": 2,
     "metadata": {},
     "output_type": "execute_result"
    }
   ],
   "source": [
    "List = np.random.randint(1,100,500)\n",
    "List"
   ]
  },
  {
   "cell_type": "markdown",
   "id": "7bd4246a-1eab-4319-9cf4-38c82a456d97",
   "metadata": {},
   "source": [
    "# **Descriptive Statistics**\n",
    "---"
   ]
  },
  {
   "cell_type": "markdown",
   "id": "811aaca0",
   "metadata": {
    "editable": true,
    "slideshow": {
     "slide_type": ""
    },
    "tags": []
   },
   "source": [
    "## Measure of central tendancy"
   ]
  },
  {
   "cell_type": "markdown",
   "id": "fde42ee4-0e7c-4760-8971-1726ddc54b8c",
   "metadata": {},
   "source": [
    "### Mean (μ)"
   ]
  },
  {
   "cell_type": "markdown",
   "id": "597735de-81db-426c-b127-cdd14f921e85",
   "metadata": {
    "editable": true,
    "slideshow": {
     "slide_type": "notes"
    },
    "tags": []
   },
   "source": [
    "1. The mean is usually referred to as 'the average'.  \n",
    "2. The mean is the sum of all the values in the data divided by the total number of values in the data.  \n",
    "mean = sum of observations / total number of observations  \n",
    "3. The formula for calculating the mean (μ) of a dataset with n observations (x₁, x₂, x₃, ..., xₙ) is:  \n",
    "μ = (x₁ + x₂ + x₃ + ... + xₙ) / n  \n",
    "5. It represents the average value of the numbers, providing a central point around which the data tends to cluster.\n",
    "6. Sample mean is denoted by $\\bar{x}$ and population mean is denoted by $\\mu$"
   ]
  },
  {
   "cell_type": "code",
   "execution_count": 3,
   "id": "27e0bcd4-695b-424b-9913-0df60457eefa",
   "metadata": {},
   "outputs": [
    {
     "name": "stdout",
     "output_type": "stream",
     "text": [
      "Mean = 51.362\n"
     ]
    }
   ],
   "source": [
    "print(\"Mean =\",np.mean(List))"
   ]
  },
  {
   "cell_type": "markdown",
   "id": "e394b40b-f302-4fe5-820f-2bac750aeb51",
   "metadata": {},
   "source": [
    "### Median\n",
    "1. In statistics, the median is a measure of central tendency that represents the middle value of a dataset when it is arranged in ascending or descending order.\n",
    "2. To calculate the median, you first need to order the dataset in ascending or descending order and then find the middle value. If the dataset has an odd number of observations, the median is simply the middle value. If the dataset has an even number of observations, the median is the average of the two middle values.\n",
    "\n",
    "   - If the number of observations (n) is odd, the median is the middle value.  \n",
    "       It's the value at position $\\frac{n+1}{2}$ in the ordered dataset.\n",
    "   - If the number of observations (n) is even, the median is the average of the two middle values.  \n",
    "       It's the average of the values at positions $\\frac{n}{2}$ and $\\frac{n}{2}+1$ in the ordered dataset."
   ]
  },
  {
   "cell_type": "code",
   "execution_count": 4,
   "id": "e936307b-6831-42c8-a169-4b38f4c5c3b2",
   "metadata": {},
   "outputs": [
    {
     "name": "stdout",
     "output_type": "stream",
     "text": [
      "Median = 52.5\n"
     ]
    }
   ],
   "source": [
    "print(\"Median =\",np.median(List))"
   ]
  },
  {
   "cell_type": "markdown",
   "id": "ac36bd76-e98c-463f-ac8c-4c6fc2262972",
   "metadata": {},
   "source": [
    "### Mode\n",
    "1. In statistics, the mode is a measure of central tendency that represents thevalue that occurs most frequently in a dataset. In other words, it is the value that has the highest frequency or count. Unlike the mean and median, which focus on the average and middle values, respectively,  the mode is concerned with identifying the most common value in the data\n",
    "2. A dataset may have one mode (unimodal), two modes (bimodal), or more than two modes (multimodal). It is also possible for a dataset to have n mode if all values occur with equal frequency\n",
    "3. To find the mode of a dataset, you simply identify the value that occurs most often. In some cases, you may have multiple values with the same highest frequency, and all of them would be considered modes. "
   ]
  },
  {
   "cell_type": "code",
   "execution_count": 5,
   "id": "10b8b33b-1523-4f05-a7a5-851ae044f8ca",
   "metadata": {},
   "outputs": [
    {
     "name": "stdout",
     "output_type": "stream",
     "text": [
      "Mode = 95\n"
     ]
    }
   ],
   "source": [
    "print(\"Mode =\",st.mode(List))"
   ]
  },
  {
   "cell_type": "markdown",
   "id": "b9a78c5e-ff21-4210-b596-7fabe5d6f12f",
   "metadata": {},
   "source": [
    "## Measure of variability / Measure of Spread"
   ]
  },
  {
   "cell_type": "markdown",
   "id": "1f0ec078-a8f8-4dda-815e-768cca7767a1",
   "metadata": {},
   "source": [
    "### Range"
   ]
  },
  {
   "cell_type": "markdown",
   "id": "1653bbed",
   "metadata": {},
   "source": [
    "1. The range is the simplest measure of spread.  \n",
    "2. The range is the difference between the smallest and the largest value of the data.  \n",
    "3. It gives an idea of the total spread but does not consider the distribution of values.  \n",
    "4. The range is a poor measure of the spread of the data as it relies on the extreme values, which aren’t necessarily representative of the \n",
    "data as a whole."
   ]
  },
  {
   "cell_type": "code",
   "execution_count": 6,
   "id": "4163c744-ca1a-4be5-922e-f7c2c2e7b9d9",
   "metadata": {},
   "outputs": [
    {
     "name": "stdout",
     "output_type": "stream",
     "text": [
      "Range :  98\n"
     ]
    }
   ],
   "source": [
    "Range = List.max() - List.min()\n",
    "print(\"Range : \",Range)"
   ]
  },
  {
   "cell_type": "markdown",
   "id": "82d8d295-abd0-4a57-befd-6fed4389fef8",
   "metadata": {},
   "source": [
    "### Quartiles"
   ]
  },
  {
   "cell_type": "markdown",
   "id": "558c3e40",
   "metadata": {},
   "source": [
    "Quartiles are measures of variation, which describes how spread out the data is.\n",
    "Quartiles are values that separate the data into four equal parts.\n",
    "1. Q0 - is the smallest value in the data.\n",
    "2. Q1 - is the value separating the first quarter from the second quarter of the data.\n",
    "Meaning 25% of the data lies below and 75% lies above that value or number.\n",
    "3. Q2 - is the middle value (median), separating the bottom from the top half.\n",
    "Meaning 50% of the data lies below and 50% lies above that value or number.\n",
    "4. Q3 - is the value separating the third quarter from the fourth quarter\n",
    "Meaning 75% of the data lies below and 25% lies above that value or number.\n",
    "5. Q4 - is the largest value in the data."
   ]
  },
  {
   "cell_type": "code",
   "execution_count": 8,
   "id": "bacc1f3e-5d1f-489e-9fcb-438e26d134b9",
   "metadata": {},
   "outputs": [
    {
     "name": "stdout",
     "output_type": "stream",
     "text": [
      "Q0 : 1\n",
      "Q1 : 26.0\n",
      "Q2 : 52.5\n",
      "Q3 : 76.25\n",
      "Q4 : 99\n"
     ]
    }
   ],
   "source": [
    "q1 = np.percentile(List,25)\n",
    "q2 = np.percentile(List,50)\n",
    "q3 = np.percentile(List,75)\n",
    "print(\"Q0 :\",min(List))\n",
    "print(\"Q1 :\",q1)\n",
    "print(\"Q2 :\",q2)\n",
    "print(\"Q3 :\",q3)\n",
    "print(\"Q4 :\",max(List))"
   ]
  },
  {
   "cell_type": "markdown",
   "id": "9d4198ed-b83a-4ad4-b188-25815eae0ed1",
   "metadata": {},
   "source": [
    "![Quartiles](img/quartiles.png)\n",
    "![Quartiles](img/quartiles2.png)"
   ]
  },
  {
   "cell_type": "markdown",
   "id": "3159c1e0",
   "metadata": {},
   "source": [
    "### Inter-Quartile Range"
   ]
  },
  {
   "cell_type": "markdown",
   "id": "61278920-3c7d-478a-9804-78c1a6124a87",
   "metadata": {},
   "source": [
    "Interquartile range is the difference between the first and third quartiles (Q1 and Q3).  \n",
    "The 'middle 50%' of the data is between the first and third quartile."
   ]
  },
  {
   "cell_type": "code",
   "execution_count": 9,
   "id": "df1231c7-fee9-4316-87c7-b9b1c3898ca3",
   "metadata": {},
   "outputs": [
    {
     "name": "stdout",
     "output_type": "stream",
     "text": [
      "Interquartile Range =  50.25\n"
     ]
    }
   ],
   "source": [
    "print(\"Interquartile Range = \",q3-q1)"
   ]
  },
  {
   "cell_type": "markdown",
   "id": "f443c284-f3b1-4a40-ac49-94194244aadc",
   "metadata": {},
   "source": [
    "### Variance $(σ^2)$"
   ]
  },
  {
   "cell_type": "markdown",
   "id": "56fe958b-9084-4a76-a5b3-5050859ac17d",
   "metadata": {},
   "source": [
    "1. The variance is a measure of variability. It is calculated by taking the average of squared deviations from the mean.\n",
    "2. The variance measures the average squared deviation of each data point from the mean. It considers the distance of each data point from the mean, making it more sensitive to outliers.  \n",
    "  Population Variance : $ \\sigma^2 = \\dfrac{\\sum (x_i - \\mu)^2}{N} $    \n",
    "3. The sample variance is given by the sum of the squared differences between each data point and the sample mean divided by (n - 1), where n is the sample size.  \n",
    "Sample Variance : $ s^2 = \\dfrac{\\sum (x_i - \\bar{x})^2}{n-1} $  \n",
    "4. Variance tells you the degree of spread in your data set.   \n",
    "5. The more spread the data, the larger the variance is in relation to the mean.  "
   ]
  },
  {
   "cell_type": "markdown",
   "id": "0c456568-1949-4494-b947-b28c60152dc6",
   "metadata": {},
   "source": [
    "![](img/1.png)\n",
    "![](img/2.png)\n",
    "\n",
    "![](img/3.png)\n",
    "![](img/4.png)"
   ]
  },
  {
   "cell_type": "code",
   "execution_count": 10,
   "id": "33bca15c-7700-4369-93eb-7b78bfc376c1",
   "metadata": {},
   "outputs": [
    {
     "name": "stdout",
     "output_type": "stream",
     "text": [
      "Variance =  817.978956\n"
     ]
    }
   ],
   "source": [
    "print(\"Variance = \",np.var(List))"
   ]
  },
  {
   "cell_type": "markdown",
   "id": "6d5f899d",
   "metadata": {},
   "source": [
    "### Standard Deviation $(σ)$"
   ]
  },
  {
   "cell_type": "markdown",
   "id": "7ef9d767-4c05-4696-8a8b-37086cce411e",
   "metadata": {},
   "source": [
    "1. Standard deviation measures how far a 'typical' observation is from the average of the data (μ).  \n",
    "2. The standard deviation is derived from variance and tells you, on average, how far each value lies from the mean.  \n",
    "3. It’s the positive square root of variance.  \n",
    "4. Population SD : $ \\sigma = \\sqrt{\\dfrac{\\sum (x_i - \\mu)^2}{N}} $\n",
    "5. Standard deviation is expressed in the same units as the original values (e.g., meters).  "
   ]
  },
  {
   "cell_type": "markdown",
   "id": "c160e955-8f7d-4f50-8b78-297e27ab0d1d",
   "metadata": {},
   "source": [
    "![Standerd Deviation](img/sd2.png)\n",
    "![Standerd Deviation](img/sd.png)"
   ]
  },
  {
   "cell_type": "code",
   "execution_count": 11,
   "id": "a34ec874-8bb9-4f32-be7c-92939897dde2",
   "metadata": {},
   "outputs": [
    {
     "name": "stdout",
     "output_type": "stream",
     "text": [
      "Standerd Deviation = 28.600331396681405\n"
     ]
    }
   ],
   "source": [
    "print(\"Standerd Deviation =\",np.std(List))"
   ]
  },
  {
   "cell_type": "markdown",
   "id": "b896e9a6-9714-4db1-911a-01b667601217",
   "metadata": {},
   "source": [
    "### Outlier Detection"
   ]
  },
  {
   "cell_type": "markdown",
   "id": "fed6ba27-fc03-49b1-aad7-ef900e534810",
   "metadata": {},
   "source": [
    "1. Lower side outliers: Observations below ( $Q_1$ - 1.5 * IQR)\n",
    "2. Upper side outliers: Observations above ( $Q_3$ + 1.5 * IQR)"
   ]
  },
  {
   "cell_type": "markdown",
   "id": "688393ba-3d3b-4336-b066-f149839365ae",
   "metadata": {},
   "source": [
    "<img src=\"img/outliers.png\" alt=\"Outliers\" width=\"500\">"
   ]
  },
  {
   "cell_type": "markdown",
   "id": "945f675a-9a64-42e6-b518-c4cda054ef6c",
   "metadata": {},
   "source": [
    "### Skewness and Kurtosis\n",
    "Skewness and Kurtosis are coefficients that measures how different a distribution from normal distribution.  \n",
    "**Skewness**\n",
    "1. Skewness measures symmetry of normal distribution.\n",
    "2. A distribution is said to be skewed if:\n",
    "   - Mean $\\neq$ Median $\\neq$ Mode\n",
    "   - quartile are not equidistant from median.\n",
    "   - Curve is not symmetrical but stretched to one side.\n",
    "\n",
    "- A distribution is left skewed if it has a “tail” on the left side of the distribution.  \n",
    "   - In left skewed, Mean < Median < Mode.      \n",
    "- A distribution is right skewed if it has a “tail” on the right side of the distribution.\n",
    "   - In right skewed Mode < Median < Mean.  \n",
    "\n",
    "In Order to calculate the Skewness Formula is, skewness = $3\\times\\dfrac{(\\textup{Mean}-\\textup{Median})}{\\textup{Standard\\,\\,deviation}}$  \n",
    "\n",
    "<img src=\"img/Skewness.png\" alt=\"Skewness\" width=\"500\">  \n",
    "\n",
    "#####  **Kurtosis**\n",
    "1. Kurtosis is a statistical measure that defines how heavily the tails of a distribution differ from the tails of a normal distribution.\n",
    "2. In other words, kurtosis identifies whether the tails of a given distribution contain extreme values.\n",
    "3. Kurtosis Measures the degree of peakedness of a frequency distribution.\n",
    "4. Types are Mesokurtic, Leptokurtic ans Platykurtic\n",
    "\n",
    "- $Mesokurtic$\n",
    "  Data that follows a mesokurtic distribution shows an excess kurtosis of zero or close to zero.  \n",
    "  This means that if the data follows a normal distribution, it follows a mesokurtic distribution.\n",
    "- $Leptokurtic$\n",
    "  Leptokurtic indicates a positive excess kurtosis.  \n",
    "  The leptokurtic distribution shows heavy tails on either side, indicating large outliers.  \n",
    "    \n",
    "- $Platykurtic$\n",
    "  A platykurtic distribution shows a negative excess kurtosis.  \n",
    "  The kurtosis reveals a distribution with flat tails.  \n",
    "  The flat tails indicate the small outliers in a distribution.  \n",
    "  \n",
    "   \n",
    "![Kurtosis](img/Kurtosis.png)"
   ]
  },
  {
   "cell_type": "markdown",
   "id": "cf34170d-7fab-45d1-aa27-261f960c8d6b",
   "metadata": {},
   "source": []
  },
  {
   "cell_type": "markdown",
   "id": "342b2273-da74-4f59-9002-5fe22ff0cf35",
   "metadata": {},
   "source": []
  },
  {
   "cell_type": "markdown",
   "id": "70966f2e",
   "metadata": {},
   "source": [
    "### Sample Space - S"
   ]
  },
  {
   "cell_type": "markdown",
   "id": "3591e98d-5a57-463e-b89f-4ee049462438",
   "metadata": {},
   "source": [
    "A collection of all possible outcomes of an experiment.  \n",
    "eg. Tossing a coin - {H,T}"
   ]
  },
  {
   "cell_type": "markdown",
   "id": "d78720c7-ce25-4aa8-981f-d8ea6eea8132",
   "metadata": {},
   "source": [
    "#### Questions:\n",
    "1. Throwing Two coins.\n",
    "2. Throwing a Dice\n",
    "3. Tossing two dice.\n",
    "4. A coin is tossed and a dice is rolled simultaneously.\n",
    "5. Choosing a integer from 1 to 50."
   ]
  },
  {
   "cell_type": "markdown",
   "id": "de98a79e-7bcf-4d9b-990a-4de139d19e9d",
   "metadata": {},
   "source": [
    "### Event - E"
   ]
  },
  {
   "cell_type": "markdown",
   "id": "ba047def-4494-4cbd-8d6a-f771ee5fc413",
   "metadata": {},
   "source": [
    "Events in probability can be defined as certain likely outcomes of an experiment that form a subset of a finite sample space.  \n",
    "The probability of occurrence of any event will always lie between 0 and 1.   \n",
    "There could be many events associated with one sample space. \n",
    "\n",
    "\n",
    "1. Getting head after tossing a coin.\n",
    "2. Getting one head and one tail after tossing two coins.\n",
    "3. Getting a number greater than 3 after tossing a die.\n",
    "4. Getting a sum of 10 after throwing two dice.\n",
    "5. Getting even/odd sum after throwing two dice.\n",
    "6. Getting even/odd product after throwing two dice.\n",
    "7. Getting Ace after choosing a random card from deck of 52.\n",
    "8. Getting a face card after choosing a random card from deck of 52.\n",
    "9. Getting a red card after choosing a random card from deck of 52.\n",
    "10. Getting a black face card after choosing a random card from deck of 52.\n",
    "    \n",
    "*Types of Event*\n",
    "- Mutually Exclusive Events :- Two events are mutually exclusive if they have no point in common. \n",
    "- Independent Events :- when occurence of one event does not affect other event. P(A ∩ B) = P(A) * P(B)\n",
    "- Dependent Events :- Two events A and B are considered dependent if the occurrence of \n",
    "one event affects the probability of the other event happening. P(A ∩ B) ≠ P(A) * P(B)."
   ]
  },
  {
   "cell_type": "markdown",
   "id": "7c77a5e3-0b6f-4042-8b67-c4d43e599c3f",
   "metadata": {},
   "source": []
  },
  {
   "cell_type": "markdown",
   "id": "c0ed2573-5eaa-41bc-a1d8-0c9decf29de8",
   "metadata": {},
   "source": [
    "#### Permutaion"
   ]
  },
  {
   "cell_type": "markdown",
   "id": "74acdb32-872b-47d6-b111-d9560d65637a",
   "metadata": {},
   "source": [
    "A permutation is an arrangement of objects in a definite order.  \n",
    "The members or elements of sets are arranged here in a sequence or linear order.   \n",
    "A permutation means a selection of objects from a set of objects in which order matters.  \n",
    "Representation : $P(n,k) ,~ P^n_k, ~ _nP_k, ~ ^nP_k$  \n",
    "Formula : $^nP_r = \\frac{n!}{(n-r)!}$  \n",
    "Example:  \n",
    "1. The permutation of set A={1,6} is 2, such as {1,6}, {6,1}. \n",
    "2. A phone number is an example of a ten number permutation; it is drawn from the set of the integers 0-9, and the order in which they are arranged in matters.  \n",
    "3. To unlock a phone using a passcode, it is necessary to enter the exact combination of letters, numbers, symbols, etc., in an exact order."
   ]
  },
  {
   "cell_type": "markdown",
   "id": "2a12a8fc-fa01-4b22-b225-8287a720480b",
   "metadata": {},
   "source": [
    "##### FORMULAS\n",
    "**Permutations with repetition**  \n",
    "When a permutation can repeat, we just need to raise $n$ to the power of however many objects from $n$ we are choosing, so $n^r$ where $n$ is the number of distinct objects in a set, and $r$ is the number of objects chosen from set $n$.\n",
    "\n",
    "$Example:$  \n",
    "For example, given the set of numbers, 1, 2, and 3, how many ways can we choose two numbers?  \n",
    "$P(n, r)$ = $P$(3, 2) = 3P2 = 9.  \n",
    "We can confirm this by listing all the possibilities:\n",
    "\n"
   ]
  },
  {
   "cell_type": "markdown",
   "id": "fa082302-978f-4dec-9aa7-fc0574332b4b",
   "metadata": {},
   "source": [
    "###### Questions:"
   ]
  },
  {
   "cell_type": "markdown",
   "id": "7858e667-fe73-4094-ab17-a749362863bc",
   "metadata": {},
   "source": [
    "1. How many 3 letter words with or without meaning can be formed out of the letters of the word SMOKE when repetition of words is allowed?\n",
    "2. 8 women and 6 men are standing in a line.  \n",
    "(i) How many arrangements are possible if any individual can stand in any position?  \n",
    "Total number of members  =   14  \n",
    "The first person can choose any one of 14 places. So he or she has 14 options.  \n",
    "The 2nd person has 13 options. So each person will have 1 option less than the previous person has.  \n",
    "  =  14  ⋅ 13 ⋅ 12 ⋅ 11 ⋅ 10 ............. 1  \n",
    "So the total number of arrangements  =  14!  \n",
    "(ii) In how many arrangements will all 6 men be standing next to one another?  \n",
    "Let us consider all 6 men as one unit. So, 8 women can choose their places out of 9 places (14 - 6).  \n",
    "These 6 men can shuffle them in 6 places.  \n",
    "So, the number of arrangements for this case is (9! ⋅ 6!)  "
   ]
  },
  {
   "cell_type": "markdown",
   "id": "9c932009-5aa1-4404-a674-209d2216d63f",
   "metadata": {},
   "source": [
    "**Permutations without repetition**"
   ]
  },
  {
   "cell_type": "markdown",
   "id": "e1ce922a-5a45-40b2-950f-436feb732b7b",
   "metadata": {},
   "source": [
    "When the set contains unique elements, and arrangements are considered distinct only if the order of elements differs  \n"
   ]
  },
  {
   "cell_type": "markdown",
   "id": "919967c7-a972-4d72-90f8-51ab4294ed48",
   "metadata": {},
   "source": [
    "Example: what order could 16 pool balls be in?  \n",
    "After choosing, say, number \"14\" we can't choose it again.  \n",
    "So, our first choice has 16 possibilites, and our next choice has 15 possibilities, then 14, 13, 12, 11, ... etc.  \n",
    "And the total permutations are:  16 × 15 × 14 × 13 × ... = 20,922,789,888,000  \n",
    "\n",
    "But maybe we don't want to choose them all, just 3 of them, and that is then:  \n",
    "16 × 15 × 14 = 3,360\n",
    "\n",
    "Without repetition our choices get reduced each time."
   ]
  },
  {
   "cell_type": "markdown",
   "id": "0e7711b1-d2d4-425c-9df7-b58fa28bc8d9",
   "metadata": {},
   "source": [
    "Example: Choosing 3 balls out of 16 pool balls:   \n",
    "$^{16}P_3 = \\frac{16!}{(16−3)!}  = \\frac{16!}{13!}  = 3,360$  \n",
    "(which is just the same as: 16 × 15 × 14 = 3,360)"
   ]
  },
  {
   "cell_type": "markdown",
   "id": "e6a203eb-e3b2-42a8-8b5a-0488da6206eb",
   "metadata": {},
   "source": [
    "#### Combination"
   ]
  },
  {
   "cell_type": "markdown",
   "id": "fc683b27-8ac1-4c41-8e78-677392a5b6cf",
   "metadata": {},
   "source": [
    "Combination refers to the selection of objects or elements from a set without regard to the order of arrangement. It calculates the number of ways you can choose a certain number of items from a larger set, and the order of selection does not matter in combinations."
   ]
  },
  {
   "cell_type": "markdown",
   "id": "a915cd05-f464-42af-a3f6-07f8164e3971",
   "metadata": {},
   "source": [
    "**Combination with repetition**  "
   ]
  },
  {
   "cell_type": "markdown",
   "id": "0f575e8b-3750-4edd-ad68-a23248a39608",
   "metadata": {},
   "source": [
    "Formula : $^nC_r = \\frac{(n + r -1)!}{r!(n-1)!}$  "
   ]
  },
  {
   "cell_type": "markdown",
   "id": "dcfc37a1-fd9e-430e-abc0-3e4ddcb65594",
   "metadata": {},
   "source": [
    "Example : The shop sells four kinds of fruits. How many ways can we buy three pieces of fruit?  \n",
    "Solution : \n",
    "$^4C_3 =  \\big(\\frac{4+3-1}{3}\\big)= \\frac{(4+3 -1)!}{3! (4-1)!} = \\binom63 = \\frac{6!}{3! * 3!} = \\frac{6.5.4}{3.2.1} = 20$  \n",
    "\n",
    "Example : In the market, we have 3 kinds of chocolates. How many ways can we buy 8 chocolates?  \n",
    "Solution :   \n",
    "$\\big(\\frac{8+3-1}{3}\\big) = \\binom{10}3 = \\frac{10!}{7! * 3!} = \\frac{10.9.8}{3.2.1} = 120$  \n",
    "."
   ]
  },
  {
   "cell_type": "markdown",
   "id": "0ac5aba3-bcdf-44c3-8f2e-d250397e0139",
   "metadata": {},
   "source": [
    "**Combination without repetition**"
   ]
  },
  {
   "cell_type": "markdown",
   "id": "a32cf54f-4f0e-49bb-adeb-8a18ea342455",
   "metadata": {},
   "source": [
    "$^nC_r = \\frac{n!}{r!(n-r)!} $"
   ]
  },
  {
   "cell_type": "markdown",
   "id": "e828bb29-77e2-4a93-aa92-7e6ac9cc8b25",
   "metadata": {},
   "source": [
    "Example : How many ways a 5-member committee can be formed out of 10 people if two particular people must be included?  \n",
    "Solution : Number of people to be selected if two particular people must be included = 5 – 2 = 3  \n",
    "Number of ways of selecting 3 out of (10 – 2) = 8 people = 8C3 = 8!/(3! × 5!) = 56.  \n",
    "∴ there are 56 ways of forming such a committee"
   ]
  },
  {
   "cell_type": "markdown",
   "id": "4923e9b1-3f53-404a-8764-1f31813cf784",
   "metadata": {},
   "source": [
    "Example : There are 4 balls of colour red, green, yellow and blue. In how many ways 2 two balls can be selected such that one of them is red or blue?  \n",
    "Solution : Number of ways two balls can be selected out of 4 balls = 4C2 = 6 ways  \n",
    "Number of ways two balls can be selected such that neither red nor blue ball gets selected   \n",
    "= (4 – 2)C2 = 2C2 = 1  \n",
    "Number of ways two balls can be selected such that either a red or a blue ball gets selected = 6 – 1 = 5 ways."
   ]
  },
  {
   "cell_type": "markdown",
   "id": "4ee1b7a9-f525-441b-9a9e-96b1a0a09af4",
   "metadata": {},
   "source": [
    "![Permutation and Combination](img/permandcomb.png)"
   ]
  },
  {
   "cell_type": "markdown",
   "id": "91b5acd9-d9f2-4f1d-abd3-f65136060710",
   "metadata": {},
   "source": [
    "### Probability - p"
   ]
  },
  {
   "cell_type": "markdown",
   "id": "4f504727-7a07-4b5e-b988-b2147915f99d",
   "metadata": {},
   "source": [
    "Probability is simply how likely something is to happen.  \n",
    "It quantifies uncertainty and helps us make predictions about the likelihood of different outcomes in various situations.  \n",
    "The probability of an event E is denoted by P(E) and lies between 0 (impossible event) and 1 (certain event).  \n",
    "Probability can be expressed as a fraction, decimal, or percentage.  \n",
    "$P(E) = \\frac{n(E)}{n(S)} $ E = Event and S = Sample Space\n",
    " \n",
    "eg. Getting a head after tossing one coin - 50%  \n",
    "p(H) = p(T) = 1/2 = 0.5 = 50%"
   ]
  },
  {
   "cell_type": "markdown",
   "id": "670ef18f-8626-48a3-8013-de1693e24103",
   "metadata": {},
   "source": [
    "#### Probability Axioms\n",
    "1. <u> Non-Negativity Axiom </u> : The probability of any event is always greater than or equal to zero.\n",
    "2. <u> Additivity Axiom</u> : The probability of the union of two or more mutually exclusive events is equal to the sum of their individual probabilities.\n",
    "3. <u>Probability of Sample Space</u> : The probability of the entire sample space is equal to 1."
   ]
  },
  {
   "cell_type": "markdown",
   "id": "670e2514-b77c-4432-93d7-a917541486bb",
   "metadata": {},
   "source": [
    "##### Questions:\n",
    "1. A die is rolled, find the probability that an even number is obtained.\n",
    "2. Two coins are tossed, find the probability that two heads are obtained.\n",
    "3. Two dice are rolled. Find the probability that the sum is 6\n",
    "4. A die is rolled and a coin is tossed, find the probability that the die shows an odd number and the coin shows a head.\n",
    "5. A card is drawn at random from a deck of cards. Find the probability of getting the 3 of diamonds.\n",
    "6. A card is drawn at random from a deck of cards. Find the probability of getting a queen.\n",
    "7. Die is rolled, find the probability that the number obtained is greater than 4.\n",
    "8. Two coins are tossed, find the probability that only one head is obtained.\n",
    "9. Two dice are rolled, find the probability that the sum is equal to 5.\n",
    "10. A card is drawn at random from a deck of cards. Find the probability of getting the King of Heart.\n",
    "11. A jar contains 3 red marbles, 7 green marbles and 10 white marbles. If a marble is drawn from the jar at random, what is the probability that this marble is white?\n",
    "12. The blood groups of 200 people is distributed as follows: 50 have type A blood, 65 have B blood type, 70 have O blood type and 15 have type AB blood. If a person from this group is selected at random, what is the probability that this person has O blood type?"
   ]
  },
  {
   "cell_type": "markdown",
   "id": "62300c27-8832-4ab0-9f04-28a9e238f3b7",
   "metadata": {},
   "source": [
    "#### Conditional Probability"
   ]
  },
  {
   "cell_type": "markdown",
   "id": "2128b876-83cd-4075-9c3a-3f678164e584",
   "metadata": {},
   "source": [
    "A conditional probability is the probability of an event, given some other event has already occurred.   \n",
    "It is denoted by P(A|B) read as probability of A given B.  \n",
    "$P(A | B) = \\frac{P(A \\cap B)}{P(B)}$\n",
    "\n",
    "1. P(A|B) is the conditional probability of event A given event B.  \n",
    "2. P(A ∩ B) is the probability of both events A and B occurring together (the intersection of A and B).  \n",
    "3. P(B) is the probability of event B occurring.  \n",
    "4. In words, the formula says that the probability of A given B is equal to the probability of both A and B occurring together, divided by the probability of B."
   ]
  },
  {
   "cell_type": "markdown",
   "id": "9cbc9632-879b-4407-be6e-344b35506f11",
   "metadata": {},
   "source": [
    "$Example 1$:  \n",
    "The probability that the second card is a heart given that the first card drawn is a spade.   \n",
    "$Solution$:  \n",
    "The probability of drawing a spade card is 13/52 = 1/4.  \n",
    "Now there are only 51 cards are remaining.  \n",
    "The probability of choosing a heart card is now 13/51.\n",
    "\n",
    "$Example 2$:  \n",
    "If a fair die is rolled twice, observe the numbers that face up. Find the conditional probability that the sum of the numbers is 7, given that the first number is 2.  \n",
    "$Solution$:  \n",
    "A : the sum of the numbers is 7. Thus set A = {(1,6),(2,5),(3,4),(4,3),(5,2),(6,1)}  \n",
    "B : the first number is 2. Thus set B = {(2,1),(2,2),(2,3),(2,4),(2,5),(2,6)}  \n",
    "A ∩ B: {(2,5)}  \n",
    "By Conditional Probability, P(A|B) = P(A ∩ B) / P(B)  \n",
    "P(A) = $\\frac{1/36}{6/36}$ = 1/6\n",
    "\n",
    "$Example 3$:  \n",
    "Two fair dice are rolled and the sum of the numbers is observed. What is the probability that the sum is at least nine if it is known that one of the dice shows a five?  \n",
    "$Solution$:  \n",
    "A :  one die is 5 = {(1,5),(2,5),(3,5),(4,5),(5,5),(6,5),(5,1),(5,2),(5,3),(5,4),(5,6)}  \n",
    "B : the sum is at least 9 = {(3,6),(4,5),(4,6),(5,5),(6,5),(6,3),(6,4),(6,6),(5,4),(5,6)}    \n",
    "There are 11 ways for one die to show a five and five of these ways have a sum of at least nine.  \n",
    "P(one die is a 5 | Sum at least 9) = 5/11\n",
    "\n",
    "$Example 4$:  \n",
    "The probability that it will be sunny on Friday is 4/5. The probability that an ice cream shop will sell ice creams on a sunny Friday is 2/3 and the probability that the ice cream shop sells ice creams on a non-sunny Friday is 1/3. Then find the probability that it will be sunny and the ice cream shop sells the ice creams on Friday.  \n",
    "$Solution$:  \n",
    "Let us assume that the probabilities for a Friday to be sunny and for the ice cream shop to sell ice creams be S and I respectively. Then,  \n",
    "P(S) = 4/5.  \n",
    "P(I | S) = 2/3.  \n",
    "P(I | S') = 1/3.  \n",
    "We have to find P(S ∩ I).  \n",
    "We can see that S and I are dependent events. By using the dependent events' formula of conditional probability,  \n",
    "P(S ∩ I) = P(I | S) · P(S) = (2/3) · (4/5) = 8/15."
   ]
  },
  {
   "cell_type": "markdown",
   "id": "98690f07-834b-4bb0-b025-ec367c2c08aa",
   "metadata": {},
   "source": []
  },
  {
   "cell_type": "markdown",
   "id": "dd0891e6-7789-4a7c-a3b5-6041f07f2442",
   "metadata": {},
   "source": [
    "#### Bayes Theorem"
   ]
  },
  {
   "cell_type": "markdown",
   "id": "f3c4aec9-fd64-47ef-b7ee-a2f528ada5ab",
   "metadata": {},
   "source": [
    "Let $B_1, B_2,…, B_n$ be a set of events associated with a sample space $S$, where all the events $B_1, B_2,…, B_n$ have nonzero probability of occurrence and they form a partition of $S$. Let A be any event associated with $S$, then according to Bayes theorem,  \n",
    "![Bayes Rule](img/bayesrule0.png)\n",
    "![Bayes Rule](img/bayesrule.png)\n"
   ]
  },
  {
   "cell_type": "markdown",
   "id": "e93820dd-15ab-4eb4-bf39-37b5d11873bc",
   "metadata": {},
   "source": [
    "$Example~1$:    \n",
    "A bag I contains 4 white and 6 black balls while another Bag II contains 4 white and 3 black balls. One ball is drawn at random from one of the bags, and it is found to be black. Find the probability that it was drawn from Bag I.  \n",
    "\n",
    "$Solution$:  \n",
    "Let $E_1$ be the event of choosing bag I,  \n",
    "$E_2$ the event of choosing bag II,  \n",
    "and A be the event of drawing a black ball.  \n",
    "$\\begin{array}{l}P(E_1)~ = ~P(E_2)~ =~\\frac{1}{2}\\end{array}$  \n",
    "Also, $P(\\frac{A}{E_1})$ = P(drawing a black ball from Bag I) = 6/10 = 3/5  \n",
    "$P(\\frac{A}{E_2})$ = P(drawing a black ball from Bag II) = 3/7  \n",
    "By using Bayes’ theorem, the probability of drawing a black ball from bag I out of two bags, \n",
    "\n",
    "$\\begin{array}{l}P(E_1 |A)~ =~\\frac{P(E_1)P(A|E_1)}{P(E_1 )P(A│E_1 )+ P(E_2)P(A|E_2)}\\end{array} \\begin{array}{l}=\\large\\frac{\\frac{1}{2}~\\times~\\frac{3}{5}}{\\frac{1}{2}~\\times~\\frac{3}{5}~+~\\frac{1}{2}~ ×~\\frac{3}{7}}\\end{array}\\begin{array}{l}=\\frac{7}{12}\\end{array}$    \n",
    "\n",
    "$Example~2$:\n",
    "In a certain plant there three machines M1, M2 and M3 Make 30%, 45%, and 25% resp. It is known that from past experience that 2%, 3%, and 2% of the productus made by each machine are defective. Now supposed that a finished product is randomly selected and it is defective then what is the probability that it is made by machine M3?\n",
    "\n",
    "$Solution$:  \n",
    "Let $A$ be the product is defective.\n",
    "$M_1, M_2, M_3$ be the product is made by machine $M_1, M_2, M_3$.  \n",
    "\n",
    "$P(M_3|A)~=~ \\frac{P(M_3)P(A|M_3)} {P(M_1)P(A|M_1)+P(M_2)P(A|M_2)+P(M_3)P(A|M_3)}$  \n",
    "\n",
    "$P(M_3|A)~=~ \\frac{(0.25)(0.02)} {(0.3)(0.02)+(0.45)(0.03)+(0.25)(0.02)}~=~ \\frac{0.005}{0.245}~=~ \\frac{10}{49}$ "
   ]
  },
  {
   "cell_type": "markdown",
   "id": "30a5e399-25ce-4c25-b77c-f5deb2bd6927",
   "metadata": {},
   "source": []
  },
  {
   "cell_type": "markdown",
   "id": "ce7efb47-d326-4668-9fe8-32e005784312",
   "metadata": {},
   "source": [
    "### **Random Variable**"
   ]
  },
  {
   "cell_type": "markdown",
   "id": "19b5ba6c-116a-4846-9443-cebdab06fac5",
   "metadata": {},
   "source": [
    "A Random Variable is a function that associates a real number to each element in a sample space.     \n",
    "The random variable for which 0 and 1 chosen to describe two values is known as Bernoulli's Random Variable.  \n",
    "There are two types of random variables. viz - Descrete and Continuous  \n"
   ]
  },
  {
   "cell_type": "markdown",
   "id": "d434a2b0",
   "metadata": {},
   "source": [
    "#### Discrete Random Variable"
   ]
  },
  {
   "cell_type": "markdown",
   "id": "30f57477-3400-48d0-9666-3fa3e1a7101d",
   "metadata": {
    "jp-MarkdownHeadingCollapsed": true
   },
   "source": [
    "A discrete random variable is a type of random variable that can take on a finite or countable number of distinct values.  \n",
    "$Example 1$: Tossing 3 Coins simultaneously.\n",
    "Sample Space(S) = {HHH, HHT, HTH, THH, THT, TTH, HTT, TTT}  \n",
    "Event(E) = Number of heads after tossing 3 coins.   \n",
    "Random Variable(X) = {0, 1, 2, 3}\n",
    "\n",
    "$Example 2$: Throwing two dice simultaneously.  \n",
    "Sample Space (S) = {(1, 1) (1, 2) (1, 3) (1, 4) (1, 5) (1, 6)  \n",
    "                    (2, 1) (2, 2) (2, 3) (2, 4) (2, 5) (2, 6)  \n",
    "                    (3, 1) (3, 2) (3, 3) (3, 4) (3, 5) (3, 6)  \n",
    "                    (4, 1) (4, 2) (4, 3) (4, 4) (4, 5) (4, 6)  \n",
    "                    (5, 1) (5, 2) (5, 3) (5, 4) (5, 5) (5, 6)  \n",
    "                    (6, 1) (6, 2) (6, 3) (6, 4) (6, 5) (6, 6)}  \n",
    "Event(E) = Sum of numbers on upper face of the both dice   \n",
    "Random Variable(X) = {2, 3, 4, 5, 6, 7, 8, 9, 10, 11, 12}  "
   ]
  },
  {
   "cell_type": "markdown",
   "id": "a6789afe-8bd0-4ca1-8cea-7f83c764fed5",
   "metadata": {},
   "source": [
    "1. Number of heads after tossing two coins - {0, 1, 2}\n",
    "2. Sum of numbers after throwing two dice - {2, 3, 4, 5, 6, 7, 8, 9, 10, 11, 12}\n",
    "3. Number of Items Sold - {0, 1, 2, 3, ...}\n",
    "4. Number of Customers - {0, 1, 2, 10, 100,...}\n",
    "5. Number of Defective Products - {0, 1, 2, 10, 100,...}"
   ]
  },
  {
   "cell_type": "markdown",
   "id": "60aa2122-efcf-4277-a429-f6b977f2e845",
   "metadata": {},
   "source": [
    "##### Probability Mass Function"
   ]
  },
  {
   "cell_type": "markdown",
   "id": "27d2cafe-a846-4487-85f6-9c556aa59ac6",
   "metadata": {},
   "source": [
    "If the random variable is a discrete random variable, the probability distribution function is usually called the probability mass function (PMF).   \n",
    "In other words, the PMF for a constant $x$ is the probability that the random variable $X$ is equal to $x$.  \n",
    "\n",
    "###### Properties of probability mass functions:-\n",
    "1. $f(x)\\geq0$ for $x$ \n",
    "2. $\\sum_x f(x) = 1$ \n",
    "3. $P(X=x) = f(x)$.\n",
    "\n",
    "\n",
    "$Example:$ A shipment of 20 laptops contains 3 defective. If a school makes a random purchace of two of these, Then find the probability distribution for number of defectives.  \n",
    "$Solution :$ Let $X$ be a random variable whose values $x$ are possible number of defective laptops.  \n",
    "Then $x$ can take values 0, 1, and 2.    \n",
    "\n",
    "$f(0) ~=~ P(X=0) ~=~ \\frac{\\binom 30 \\binom {17}2}{\\binom {20}2} ~=~ \\frac{136}{190}$     \n",
    "$f(1) ~=~ P(X=1) ~=~ \\frac{\\binom 31 \\binom {17}1}{\\binom {20}2} ~=~ \\frac{51}{190}$     \n",
    "$f(2) ~=~ P(X=2) ~=~ \\frac{\\binom 32 \\binom {17}0}{\\binom {20}2} ~=~ \\frac{3}{190}$  \n",
    "."
   ]
  },
  {
   "cell_type": "markdown",
   "id": "70218a71-7bf8-4a96-a386-3835e2725395",
   "metadata": {},
   "source": [
    "##### Cumulative Distribution Function"
   ]
  },
  {
   "cell_type": "markdown",
   "id": "127e658a-587e-4d89-8ba6-80d2d2c74ea4",
   "metadata": {},
   "source": [
    "The CDF of Descrete random variable with probability distribution $f(x)$ is,  \n",
    "$F(x) = P(X \\leq x) = \\sum_{t \\leq x} f(t)$     for $-\\infty \\leq x \\leq \\infty$  \n",
    "Try for above example..."
   ]
  },
  {
   "cell_type": "code",
   "execution_count": null,
   "id": "242aafa0-d5da-4ee2-8111-e863f24317d8",
   "metadata": {},
   "outputs": [],
   "source": []
  },
  {
   "cell_type": "markdown",
   "id": "8be4b46d-c3c7-480d-869b-f73d5a6bd82c",
   "metadata": {},
   "source": [
    "#### Continuous Random Variable"
   ]
  },
  {
   "cell_type": "markdown",
   "id": "760189e4-ac7a-4df4-baa5-868f24841749",
   "metadata": {},
   "source": [
    "A continuous random variable is a random variable that has only continuous values.  \n",
    "Continuous values are uncountable and are related to real numbers."
   ]
  },
  {
   "cell_type": "markdown",
   "id": "decea2c8-93eb-4ada-bea3-a9b6fb90a3b6",
   "metadata": {},
   "source": [
    "1. The time it takes to complete an exam for a 60 minute test,  \n",
    "Possible values = all real numbers on the interval [0,60]\n",
    "2. Age of a fossil,  \n",
    "Possible values = all real numbers on the interval [minimum age, maximum age]\n",
    "4. KM per Liter for a car,  \n",
    "Possible Values = all real numbers on the interval [minimum Kmph, maximum Kmph]"
   ]
  },
  {
   "cell_type": "markdown",
   "id": "cbb55db0-b0a5-4660-9f7f-716228b8e4b9",
   "metadata": {},
   "source": [
    "##### Probability Density Function"
   ]
  },
  {
   "cell_type": "markdown",
   "id": "5c7e9bc9-0b42-4672-80fd-749985923dde",
   "metadata": {},
   "source": [
    "If the random variable is a continuous random variable, the probability function is usually called the probability density function (PDF). Contrary to discrete case $f(x) \\ne P(X=x)$.\n",
    "\n",
    "###### Properties of probability density functions:-\n",
    "1. $f(x) > 0$\n",
    "2. $\\int_{-\\infty}^{\\infty} f(x)dx = 1$\n",
    "3. $P(a<X<b) = \\int_a^b f(x)dx $"
   ]
  },
  {
   "cell_type": "markdown",
   "id": "f73cfb29-dd68-4787-9c5e-13f72431af6f",
   "metadata": {},
   "source": [
    "$Example:$  \n",
    "Suppose that the error in temp. for a controlled lab experiment is a continuous random variable $X$ having PDF  \n",
    "$f(x) = \\left\\{\\begin{array}{l l} \n",
    "x^2/3, & \\text{for}\\ -1\\leq x\\leq 2 \\\\  \n",
    "0, & \\text{otherwise} \n",
    "\\end{array}\\right.$  \n",
    "1. Verify that the $f(x)$ is a density function.\n",
    "2. Find $P(0<X<1)$\n",
    "\n",
    "$Solution:$  \n",
    "1. $\\int_{-\\infty}^{\\infty} f(x)dx = \\int_{-1}^{2} \\frac{x^2}{3}dx = \\frac{8}{9} + \\frac{1}{9} = 1$\n",
    "\n",
    "2. $P(0<X<1) = \\int_{0}^{1} \\frac{x^2}{3}dx = \\big|\\frac{x^3}{9} \\big|_0^1 = \\frac{1}{9}$"
   ]
  },
  {
   "cell_type": "markdown",
   "id": "a0a6da54-4a3c-4c1e-938e-1b0367487052",
   "metadata": {},
   "source": [
    "##### Cumulative Distribution Function"
   ]
  },
  {
   "cell_type": "markdown",
   "id": "a71d22be-e635-4cd6-aeeb-91abd930ff5b",
   "metadata": {},
   "source": [
    "The CDF of Descrete random variable with probability distribution $f(x)$ is,  \n",
    "$F(x) = P(X \\leq x) = \\int_{-\\infty}^{x} f(t) dt$     for $-\\infty \\leq x \\leq \\infty$  \n",
    "Try for above example..."
   ]
  },
  {
   "cell_type": "markdown",
   "id": "fe39ed3e-8ef0-4272-895f-ba5901569fc7",
   "metadata": {},
   "source": []
  },
  {
   "cell_type": "markdown",
   "id": "d89cc1e4-5c64-42c6-81a4-d0efd6196ab1",
   "metadata": {},
   "source": []
  },
  {
   "cell_type": "markdown",
   "id": "5c8372b9-7280-482d-a616-4109f28573a6",
   "metadata": {},
   "source": []
  },
  {
   "cell_type": "markdown",
   "id": "ee1fcadb-7eff-4185-8ba2-34f6fd828a66",
   "metadata": {},
   "source": [
    "### Expected Value"
   ]
  },
  {
   "cell_type": "markdown",
   "id": "79665d6e-9850-4ee2-9686-bee908309bf4",
   "metadata": {},
   "source": [
    "A quantity expressing a average value of a discrete random variable.The expected value of a discrete random variable is the probability-weighted average of all its possible values.  \n",
    "Let X be a random variable with probability distribution f(x). The Mean or Expected Value of X is"
   ]
  },
  {
   "cell_type": "markdown",
   "id": "13b3f917-2c43-4205-8917-662fe94a88b6",
   "metadata": {},
   "source": [
    "#### Discrete Random Variable :  \n",
    "Mean : $\\mu~=~E(X)~=~\\sum x \\cdot f(x)$  \n",
    "Variance : $\\sigma^2~=~\\text{Var}(X)~=~\\sum x_i^2f(x_i)-(E(X))^2~=~\\sum x_i^2f(x_i)-\\mu^2$    \n",
    "Std Deviation : $\\sigma=\\text{SD}(X)=\\sqrt{\\text{Var(X)}}=\\sqrt{\\sigma^2}$\n"
   ]
  },
  {
   "cell_type": "markdown",
   "id": "f11dd426-1f5f-4f1f-8147-72391696fe43",
   "metadata": {},
   "source": [
    "Example: Tossing a coin.  \n",
    "E(x) = $0 * \\frac{1}{2} + 1 * \\frac{1}{2} =\\frac{1}{2}$  \n",
    "Example: Throwing a dice.  \n",
    "E(x) = $1*\\frac{1}{6} + 2*\\frac{1}{6} + 3*\\frac{1}{6} + 4*\\frac{1}{6} + 5*\\frac{1}{6} + 6*\\frac{1}{6}=\\frac{21}{6} = 3.5$  \n"
   ]
  },
  {
   "cell_type": "markdown",
   "id": "03ef8039-5d3a-4850-a493-a43c8043895d",
   "metadata": {},
   "source": [
    "#### Continuous Random Variable : \n",
    "Mean : $\\mu~=~E(X)~=~\\int\\limits^{\\infty}_{-\\infty}\\! x\\cdot f(x)\\, dx.$    \n",
    "Variance : $\\text{Var}(X) = \\text{E}[X^2] - \\mu^2 = \\left(\\int\\limits^{\\infty}_{-\\infty}\\! x^2\\cdot f(x)\\, dx\\right) - \\mu^2$  \n",
    "Std Deviation : $\\sigma=\\text{SD}(X)=\\sqrt{\\text{Var(X)}}=\\sqrt{\\sigma^2}$"
   ]
  },
  {
   "cell_type": "markdown",
   "id": "07393d30-8a13-423c-867f-8f74a4d1a194",
   "metadata": {},
   "source": [
    "Example :  \n",
    "$f(x) = \\left\\{\\begin{array}{l l} \n",
    "x, & \\text{for}\\ 0\\leq x\\leq 1 \\\\ \n",
    "2-x, & \\text{for}\\ 1< x\\leq 2 \\\\ \n",
    "0, & \\text{otherwise} \n",
    "\\end{array}\\right.$  \n",
    "Solution :   \n",
    "$\\text{E}[X] = \\int\\limits^1_0\\! x \\cdot x\\, dx + \\int\\limits^2_1 x \\cdot (2-x)\\, dx = \\int\\limits^1_0\\! x^2\\, dx + \\int\\limits^2_1\\! (2x - x^2)\\, dx = \\frac{1}{3} + 3 -\\frac{7}{3} = 1.$"
   ]
  },
  {
   "cell_type": "markdown",
   "id": "020b1438-19b7-4faf-a0a1-9863491b24fa",
   "metadata": {},
   "source": []
  },
  {
   "cell_type": "markdown",
   "id": "cc5b8de7-fb4e-4800-b3c5-4632a1a29edf",
   "metadata": {},
   "source": []
  },
  {
   "cell_type": "markdown",
   "id": "1f5d9bb6-d4f5-4e0a-806b-e8f41252ec57",
   "metadata": {},
   "source": []
  },
  {
   "cell_type": "markdown",
   "id": "d680a84c",
   "metadata": {},
   "source": [
    "## **Distributions**"
   ]
  },
  {
   "cell_type": "markdown",
   "id": "67712fb3-b634-4876-a48b-fc47f92184e1",
   "metadata": {},
   "source": [
    "## Probability Distributions"
   ]
  },
  {
   "cell_type": "markdown",
   "id": "9265a1b8-f20c-4be7-809a-7ed9f109f4ee",
   "metadata": {},
   "source": [
    "A probability distribution is an idealized frequency distribution.A frequency distribution describes a specific sample or dataset. It’s the number of times each possible value of a variable occurs in the dataset.\n",
    "\n",
    "The number of times a value occurs in a sample is determined by its probability of occurrence. Probability is a number between 0 and 1 that says how likely something is to occur:\n",
    "\n",
    "0 means it’s impossible.1 means it’s certain. and in between.\n",
    "The higher the probability of a value, the higher its frequency in a sample.\n",
    "\n",
    "There are two types of probability distribution viz. Descrete and Continuous probability distribution."
   ]
  },
  {
   "cell_type": "markdown",
   "id": "60259691-e121-4ff0-8bdc-bcc90d90259d",
   "metadata": {},
   "source": [
    "## Discrete Probability Distribution"
   ]
  },
  {
   "cell_type": "markdown",
   "id": "e8995bbb-c46e-474d-abdf-30881beaa22c",
   "metadata": {},
   "source": [
    "A Discrete probability distribution is a probability distribution of a categorical or discrete variable.\n",
    "\n",
    "Discrete probability distributions only include the probabilities of values that are possible. In other words, a discrete probability distribution doesn’t include any values with a probability of zero. For example, a probability distribution of dice rolls doesn’t include 2.5 since it’s not a possible outcome of dice rolls.\n",
    "\n",
    "The probability of all possible values in a discrete probability distribution add up to one."
   ]
  },
  {
   "cell_type": "markdown",
   "id": "0a102806-2f97-404e-9c04-d95674583ccb",
   "metadata": {},
   "source": [
    "Example 1: Throwing a coin\n",
    "|Outcome |Probability|\n",
    "|:-:|:-:|\n",
    "|Heads|1/2|\n",
    "|Tails|1/2|\n",
    "\n",
    "<img src=\"img/cointoss.gif\" width=400 height=400 />\n",
    "\n",
    "Example 2: Throwing two coin and getting a head\n",
    "|Outcome |Probability|\n",
    "|:-:|:-:|\n",
    "|0|1/4|\n",
    "|1|2/4|\n",
    "|2|1/4|\n",
    "\n",
    "Example 3: Tossing a dice\n",
    "|Outcome |Probability|\n",
    "|:-:|:-:|\n",
    "|1|1/6|\n",
    "|2|1/6|\n",
    "|3|1/6|\n",
    "|4|1/6|\n",
    "|5|1/6|\n",
    "|6|1/6|\n",
    "\n",
    "<img src=\"img/dietoss.gif\" width=400 height=400 />\n",
    "\n",
    "Example 4: Throwing two dice and calculating sum\n",
    "|Outcome |Probability| Result|\n",
    "|:-:|:-:|:-:|\n",
    "|2|1/36|(1,1)|\n",
    "|3|2/36|(1,2), (2,1)|\n",
    "|4|3/36|(1,3), (2,2), (3,1)|\n",
    "|5|4/36|(1,4), (2,3), (3,2), (4,1)|\n",
    "|6|5/36|(1,5), (2,4), (3,3), (4,2), (5,1)|\n",
    "|7|6/36|(1,6), (2,5), (3,4), (4,3), (5,2), (6,1)|\n",
    "|8|5/36|(2,6), (3,5), (4,4), (5,3), (6,2)|\n",
    "|9|4/36|(3,6), (4,5), (5,4), (6,3)|\n",
    "|10|3/36|(4,6), (5,5), (6,4)|\n",
    "|11|2/36|(5,6), (6,5)|\n",
    "|12|1/36|(6,6)|\n",
    "\n",
    "<img src=\"img/dicesum.gif\" width=400 height=400 />"
   ]
  },
  {
   "cell_type": "markdown",
   "id": "312a64a2-8813-4022-951b-11d82bcf1e92",
   "metadata": {},
   "source": [
    "### Frequency distribution\n",
    "The frequency of a value is the number of times it occurs in a dataset.   \n",
    "A frequency distribution is the pattern of frequencies of a variable.  \n",
    "It’s the number of times each possible value of a variable occurs in a dataset."
   ]
  },
  {
   "cell_type": "markdown",
   "id": "e6388a86-ab3c-4f2b-9f72-6913339417fd",
   "metadata": {},
   "source": []
  },
  {
   "cell_type": "markdown",
   "id": "b646165f-6342-4787-a2f9-0dc6633933fe",
   "metadata": {},
   "source": [
    "### Binomial Distribution"
   ]
  },
  {
   "cell_type": "markdown",
   "id": "1da4a5d6-2972-4283-81b2-763a8a3d15c8",
   "metadata": {},
   "source": [
    "The binomial distribution is the discrete probability distribution that gives only two possible results in an experiment, either Success or Failure. The binomial is a type of distribution that has two possible outcomes.\n",
    "\n",
    "success/yes/true/one (probability p) or failure/no/false/zero (probability q = 1 − p)\n",
    "\n",
    "For example, a coin toss has only two possible outcomes: heads or tails and taking a test could have two possible outcomes: pass or fail.\n",
    "\n",
    "The binomial distribution formula is for any random variable X, given by\n",
    "\n",
    "$P(x:n,p)$ = $^nC_x \\cdot p^x \\cdot  (1-p)^{n-x}$ = $ \\frac{n!}{x! \\cdot (n-x)!}  \\cdot p^x \\cdot  (1-p)^{n-x}$\n",
    "\n",
    "1. Mean, $μ = np$\n",
    "2. Variance, $σ^2 = npq$\n",
    "3. Standard Deviation $σ= \\sqrt{npq}$\n",
    "\n",
    "**Use Cases**:\n",
    "1. Number of Side Effects from Medications\n",
    "2. Number of Fraudulent Transactions\n",
    "3. Number of Spam Emails per Day\n",
    "4. Number of River Overflows\n",
    "5. Shopping Returns per Week"
   ]
  },
  {
   "cell_type": "markdown",
   "id": "e717ec13-c255-4158-801d-35735ce1bdf5",
   "metadata": {},
   "source": [
    "#### Problem:\n",
    "Your basketball team is playing a series of 5 games against your opponent. The winner is those who wins more games (out of 5). Let assume that your team is much more skilled and has 75% chances of winning. It means there is a 25% chance of losing.What is the probability of your team get 3 wins?\n",
    "\n",
    "**Solution:**\n",
    "\n",
    "Here $n = 5, p = 0.75, q = 0.25, x = 3$\n",
    "\n",
    "$P(x=3) =  \\frac{n!}{x! \\cdot (n-x)!}  \\cdot p^x \\cdot  (1-p)^{n-x}$\n",
    "\n",
    "$P(x=3) = \\frac{5!}{3! \\cdot (5-3)!} \\cdot 0.75^3 \\cdot 0.25^2$\n",
    "\n",
    "$P(x=3) = 0.264$"
   ]
  },
  {
   "cell_type": "code",
   "execution_count": 11,
   "id": "017a24cb-f33f-4fac-b36d-5aa7d8250406",
   "metadata": {},
   "outputs": [
    {
     "name": "stdout",
     "output_type": "stream",
     "text": [
      "[3 5 8 4 4 5 5 3 5 3 3 5 5 6 4 7 4 5 6 6 4 6 5 7 6 5 4 4 5 2 5 4 6 3 4 5 8\n",
      " 5 7 5 4 6 4 5 6 5 6 6 5 7 7 7 7 7 7 5 2 5 4 7 5 5 4 7 6 3 5 5 4 4 5 5 4 3\n",
      " 7 4 3 7 6 4 6 2 8 7 6 7 5 5 6 2 6 7 5 5 6 9 4 4 6 5 7 6 6 4 6 5 6 4 6 5 5\n",
      " 8 7 6 5 5 3 4 6 6 4 5 4 5 5 5 2 6 4 4 6 4 6 3 5 4 6 5 7 5 8 4 4 5 8 7 8 2\n",
      " 6 5 6 8 6 7 4 5 8 4 8 4 3 3 6 5 5 5 6 4 6 5 5 3 5 6 4 7 5 2 5 7 7 2 5 4 4\n",
      " 5 7 5 7 9 5 6 5 5 4 3 3 5 7 4 5 5 3 7 6 5 4 5 6 7 3 8 1 4 4 8 1 5 4 5 6 4\n",
      " 5 7 7 6 7 4 3 8 7 2 5 8 6 4 6 5 3 5 4 4 6 6 3 6 5 8 4 6 5 7 5 5 4 5 8 2 4\n",
      " 6 3 3 3 4 4 5 4 4 5 5 5 5 4 2 8 6 4 7 4 0 5 3 7 4 6 8 5 5 6 3 5 7 7 3 3 3\n",
      " 3 5 4 6 3 4 4 7 5 5 8 8 5 7 4 4 3 6 6 7 4 5 5 3 3 6 5 5 3 1 3 3 6 2 6 7 6\n",
      " 4 7 6 7 6 6 5 6 6 6 5 4 4 2 5 5 5 4 5 7 5 5 6 4 2 5 4 4 7 5 4 7 2 4 4 8 7\n",
      " 4 3 7 7 5 7 5 2 5 4 4 5 5 3 5 5 4 4 4 5 2 3 5 4 3 7 4 6 2 7 5 6 9 5 7 2 6\n",
      " 6 7 1 4 6 2 7 7 7 5 3 4 1 6 4 6 3 4 6 7 3 6 8 5 2 5 5 4 6 7 5 4 6 1 5 2 7\n",
      " 2 4 4 4 6 6 4 5 4 7 9 5 7 6 6 7 5 6 6 4 4 3 4 6 7 8 2 7 4 4 5 6 5 5 4 3 4\n",
      " 4 2 4 2 7 5 0 4 3 3 4 4 8 5 4 3 4 3 6]\n"
     ]
    },
    {
     "data": {
      "image/png": "[encoded data removed]",
      "text/plain": [
       "<Figure size 500x500 with 1 Axes>"
      ]
     },
     "metadata": {},
     "output_type": "display_data"
    }
   ],
   "source": [
    "x = np.random.binomial(n=10,p=0.5,size=500)\n",
    "print(x)\n",
    "\n",
    "sns.displot(x,kde=True)\n",
    "plt.show()"
   ]
  },
  {
   "cell_type": "markdown",
   "id": "eb93bd03-36b5-4c26-b746-e727194a9b2a",
   "metadata": {},
   "source": [
    "### Bernoulli Distribution"
   ]
  },
  {
   "cell_type": "markdown",
   "id": "531fd9d0-82ff-4778-90a1-78d7ae54e34c",
   "metadata": {},
   "source": [
    "A discrete probability distribution where the random variable can only have 2 possible outcomes is known as a Bernoulli Distribution.\n",
    "\n",
    "It is a special case of binomial distribution where number of trials i.e. n = 1.\n",
    "\n",
    "1. Mean, $μ = p$\n",
    "2. Variance, $σ^2 = pq$\n",
    "3. Standard Deviation $σ= \\sqrt{pq}$\n",
    "\n",
    "**Use Cases:**\n",
    "1. Will the next coin toss show heads?\n",
    "2. Will the die roll produce a 6?\n",
    "3. Will a specific song play next on shuffle?\n",
    "4. Will I win the next lottery?"
   ]
  },
  {
   "cell_type": "markdown",
   "id": "f0c80f2b-a3a3-4dc2-81eb-11050c79c47e",
   "metadata": {},
   "source": [
    "#### Problem:\n",
    "A die is rolled 3 times. What is the probability of  \n",
    "(a) No fives turning up?  \n",
    "(b) 1 five?  \n",
    "(c) 3 fives?\n",
    "\n",
    "**Solution:**\n",
    "This is a binomial distribution because there are only 2 possible outcomes (we get 5 or we don't).  \n",
    "(a). Here, $x=0$, $p = \\frac{1}{6} $, $q = \\frac{5}{6} $  \n",
    "$P(X=0) = C^n_x \\cdot p^x \\cdot q^{n-x} = C^3_0 \\cdot \\big(\\frac{1}{6}\\big)^0 \\cdot \\big(\\frac{5}{6}\\big)^3 = \\frac{125}{216} = 0.5787$  \n",
    "(b). Here, $x=1$  \n",
    "$P(X=1) = C^n_x \\cdot p^x \\cdot q^{n-x} = C^3_1 \\cdot \\big(\\frac{1}{6}\\big)^1 \\cdot \\big(\\frac{5}{6}\\big)^2 = \\frac{75}{216} = 0.34722$  \n",
    "(c). Here, $x=3$  \n",
    "$P(X=3) = C^n_x \\cdot p^x \\cdot q^{n-x} = C^3_3 \\cdot \\big(\\frac{1}{6}\\big)^3 \\cdot \\big(\\frac{5}{6}\\big)^0 = \\frac{1}{216} = 0.00462$   \n",
    "."
   ]
  },
  {
   "cell_type": "code",
   "execution_count": 12,
   "id": "4c1a7c6b-7741-4499-8240-07dcaebe97cf",
   "metadata": {},
   "outputs": [
    {
     "data": {
      "image/png": "[encoded data removed]",
      "text/plain": [
       "<Figure size 640x480 with 1 Axes>"
      ]
     },
     "metadata": {},
     "output_type": "display_data"
    }
   ],
   "source": [
    "p = np.array([0.75,0.25])\n",
    "face=[0,1]\n",
    "plt.bar(face,p)\n",
    "plt.show()"
   ]
  },
  {
   "cell_type": "markdown",
   "id": "f89b1573-2075-49ba-a393-9a959cbd4d5a",
   "metadata": {},
   "source": [
    "### Uniform Distribution"
   ]
  },
  {
   "cell_type": "markdown",
   "id": "98a06093-a5cf-4175-97a6-a07cc6647cf6",
   "metadata": {},
   "source": [
    "A uniform distribution is a type of probability distribution that has constant probability due to equally likely occurring events. It is also known as a rectangular distribution or continuous uniform distribution.\n",
    "\n",
    "1. A deck of cards has within it uniform distributions because the likelihood of drawing a heart, a club, a diamond, or a spade is equally likely.\n",
    "2. A coin also has a uniform distribution because the probability of getting either heads or tails in a coin toss is the same.\n",
    "3. Number that comes when we roll a fair dice.\n",
    "\n",
    "**Discrete Uniform Distribution:-**\n",
    "1. It has a finite sample space in which each value has a probability equal to $\\frac{1}{n}$ where $n$ is the amount of elements in sample space $S$.  \n",
    "Every outcome of dice has a probability $\\frac{1}{6}$\n",
    "\n",
    "**Use Cases:**\n",
    "1. Guessing a Birthday\n",
    "2. Rolling a Die\n",
    "3. Choosing a card from Deck of Cards"
   ]
  },
  {
   "cell_type": "code",
   "execution_count": 4,
   "id": "3b87412e-c88c-4294-be21-98c8b5a86e45",
   "metadata": {},
   "outputs": [
    {
     "data": {
      "image/png": "[encoded data removed]",
      "text/plain": [
       "<Figure size 640x480 with 1 Axes>"
      ]
     },
     "metadata": {},
     "output_type": "display_data"
    }
   ],
   "source": [
    "x = np.random.uniform(-1,1,size=100000000)  #100, 1000, 10000, 100000\n",
    "sns.kdeplot(x)\n",
    "plt.show()"
   ]
  },
  {
   "cell_type": "markdown",
   "id": "4807d45c-1168-4375-b966-350ddf70f652",
   "metadata": {},
   "source": [
    "### Geometric Distribution"
   ]
  },
  {
   "cell_type": "markdown",
   "id": "8e4ea2a3-e9f8-4856-b464-11fd9210df11",
   "metadata": {},
   "source": [
    "Geometric distribution can be defined as a discrete probability distribution that represents the probability of getting the first success after having a consecutive number of failures. A geometric distribution can have an indefinite number of trials until the first success is obtained.\n",
    "\n",
    "Geometric distribution that is based on three important assumptions:\n",
    "1. The trials being conducted are independent.\n",
    "2. There can only be two outcomes of each trial - success or failure.\n",
    "3. The success probability, denoted by p, is the same for each trial.\n",
    "\n",
    "Formula:- $P(X = x) = p \\cdot (1 - p)^{x - 1}$\n",
    "\n",
    "1. Mean, $μ = \\frac{1}{p}$\n",
    "2. Variance, $σ^2 = \\frac{1-p}{p^2}$\n",
    "3. Standard Deviation $\\sigma = \\frac{\\sqrt{1-p}}{p}$\n",
    "\n",
    "**Use Cases:**\n",
    "1. a common application of the geometric distribution is in games of chance with two outcomes (a rolled die is either a 3 or not a 3, and a coin toss is either heads or tails). The geometric distribution is also used in sports—using past averages such as a pitcher’s strikeout rate in baseball or a pass completion rate in football (soccer)—to determine probabilities of certain events in games.\n",
    "2. The geometric distribution also has applications in manufacturing, where it is important to monitor and identify defective products. If the defect rate of a production process is known, it can be used to determine the probability of finding a defective product during the quality-control process. Identifying this probability, in turn, helps to determine (and, ideally, improve) quality control.\n"
   ]
  },
  {
   "cell_type": "markdown",
   "id": "b1b842f3-9dea-4029-96d3-04ef24384401",
   "metadata": {},
   "source": [
    "#### Problem:\n",
    "A light bulb manufacturing factory finds 3 in every 60 light bulbs defective. Calculate what will be the probability that the first defective light bulb with be found when the 6th one is tested?\n",
    "\n",
    "**Solution:**    \n",
    "As the probability of the first defective light bulb needs to be determined hence, this is a geometric distribution.  \n",
    "$p = 3 / 60 = 0.05$  \n",
    "$P(X = x) = (1 - p)^{x−1}p $  \n",
    "$P(X = 6) = (1 - 0.05)^{6-1}(0.05) = (0.95)^5(0.05) = 0.0386$  \n",
    "Probability (first defective light bulb is found on the 6th trial) is 0.0386."
   ]
  },
  {
   "cell_type": "markdown",
   "id": "4e53ae90-df74-45f7-8281-84d9e58fdb78",
   "metadata": {},
   "source": [
    "### Poisson Distribution"
   ]
  },
  {
   "cell_type": "markdown",
   "id": "5a9b4182-5503-4503-a302-1ed52dc396b1",
   "metadata": {},
   "source": [
    "A Poisson distribution is a discrete probability distribution. It gives the probability of an event happening a certain number of times (k) within a given interval of time or space.  \n",
    "The Poisson distribution has only one parameter, λ (lambda), which is the mean number of events. You can use a Poisson distribution to predict or explain the number of events occurring within a given interval of time or space.\n",
    "\n",
    "You can use a Poisson distribution if:\n",
    "1. Individual events happen at random and independently. That is, the probability of one event doesn’t affect the probability of another event.\n",
    "2. You know the mean number of events occurring within a given interval of time or space. This number is called λ (lambda), and it is assumed to be constant.\n",
    "\n",
    "Examples:\n",
    "1. Text messages per hour\n",
    "2. Male grizzly bears per hectar\n",
    "3. Machine malfunctions per year\n",
    "4. Website visitors per month\n",
    "5. Influenza cases per year\n",
    "\n",
    "Formula:- $P(X = k) = \\dfrac{e^{-\\lambda} \\lambda^k}{k!}$  \n",
    "1. Mean = $\\lambda$\n",
    "2. Variance = $\\lambda$"
   ]
  },
  {
   "cell_type": "markdown",
   "id": "2b100f80-6afe-4883-99df-3e463c4ab7dc",
   "metadata": {},
   "source": [
    "#### Problem:\n",
    "An average of 0.61 soldiers died by horse kicks per year in each Prussian army corps. You want to calculate the probability that exactly two soldiers died in the VII Army Corps in 1898, assuming that the number of horse kick deaths per year follows a Poisson distribution.\n",
    "\n",
    "**Solution:**\n",
    "The specific army corps (VII Army Corps) and year (1898) don’t matter because the probability is constant.  \n",
    "$k = 2$ deaths by horse kick  \n",
    "$\\lambda = 0.61$ deaths by horse kick per year  \n",
    "$e = 2.718$  \n",
    "$P(X = k) = \\dfrac{e^{-\\lambda} \\lambda^k}{k!}$  \n",
    "$P(X = 2) = \\dfrac{(2.718^{-0.61})(0.61^2)}{2!}$  \n",
    "$P(X = 2) = \\dfrac{(0.54339)(0.3721)}{2}$  \n",
    "$P(X = 2) = 0.101$  \n",
    "The probability that exactly two soldiers died in the VII Army Corps in 1898 is 0.101.\n"
   ]
  },
  {
   "cell_type": "code",
   "execution_count": 14,
   "id": "fe3a5333-1d8d-421f-b323-f40e12d3ac66",
   "metadata": {},
   "outputs": [
    {
     "data": {
      "image/png": "[encoded data removed]",
      "text/plain": [
       "<Figure size 640x480 with 1 Axes>"
      ]
     },
     "metadata": {},
     "output_type": "display_data"
    }
   ],
   "source": [
    "x =np.random.poisson(2,size=1000)\n",
    "sns.histplot(x,kde=False)\n",
    "plt.show()"
   ]
  },
  {
   "cell_type": "markdown",
   "id": "890fe771-8306-4848-9c14-12e265d18680",
   "metadata": {},
   "source": [
    "## Continuous Probability Distribution"
   ]
  },
  {
   "cell_type": "markdown",
   "id": "94f3daee-fcf9-4243-9aff-3e269e57e3bf",
   "metadata": {},
   "source": [
    "A continuous probability distribution is the probability distribution of a continuous variable.  \n",
    "A continuous variable can have any value between its lowest and highest values. Therefore, continuous probability distributions include every number in the variable’s range.  \n",
    "The probability that a continuous variable will have any specific value is so infinitesimally small that it’s considered to have a probability of zero. However, the probability that a value will fall within a certain interval of values within its range is greater than zero.  \n",
    "Example:-\n",
    "1. the amount of rainfall in inches in a year for a city.\n",
    "2. the weight of a newborn baby\n",
    "3. the height of a randomly selected student."
   ]
  },
  {
   "cell_type": "markdown",
   "id": "a3d3888c-25f7-4408-b3d5-4815ac0a17cc",
   "metadata": {},
   "source": [
    "### Normal Distribution / Gaussion Distribution"
   ]
  },
  {
   "cell_type": "markdown",
   "id": "88635314-5fdd-41e3-a164-19a52c928b26",
   "metadata": {},
   "source": [
    "The normal distribution is described by the mean (μ) and the standard deviation (σ)  \n",
    "The normal distribution is often referred to as a 'bell curve' because of it's shape:  \n",
    "1. The mean, median and mode are equal\n",
    "2. It has only one mode\n",
    "3. It is symmetric, meaning it decreases the same amount on the left and the right of the center\n",
    "4. Most of the values are around the center (μ)\n",
    "5. The distribution can be described by two values: the mean and the standard deviation.\n",
    "6. The area under the curve of the normal distribution represents probabilities for the data.  \n",
    "7. The area under the whole curve is equal to 1, or 100%\n",
    "\n",
    "$n(x:\\mu,\\sigma) = \\frac{1}{\\sqrt{2\\pi}\\sigma} e^{\\big(\\frac{-1}{2\\sigma^2} \\cdot (x-\\mu)^2\\big)}$\n",
    "\n",
    "<img src=\"img/normaldistribution.png\" width=600 height=600 />\n",
    "  \n",
    "![Normal Distribution](img/normaldistribution2.png)  ![Normal Distribution](img/normaldistribution3.png)  \n",
    "\n",
    "#### Empirical rule\n",
    "The empirical rule, or the 68-95-99.7 rule, tells you where most of your values lie in a normal distribution:  \n",
    "- Around 68% of values are within 1 standard deviation from the mean.\n",
    "- Around 95% of values are within 2 standard deviations from the mean.\n",
    "- Around 99.7% of values are within 3 standard deviations from the mean."
   ]
  },
  {
   "cell_type": "code",
   "execution_count": 15,
   "id": "e90cef7b-0761-4b22-a181-cfaea41ae70f",
   "metadata": {},
   "outputs": [
    {
     "data": {
      "image/png": "[encoded data removed]",
      "text/plain": [
       "<Figure size 500x500 with 1 Axes>"
      ]
     },
     "metadata": {},
     "output_type": "display_data"
    }
   ],
   "source": [
    "mu, sigma = 10 , 5                                         # mean and standard deviation\n",
    "value = np.random.normal(mu, sigma, size =10000)\n",
    "sns.displot(value)\n",
    "plt.xlabel(\"Value\")\n",
    "plt.ylabel(\"Frequency\")\n",
    "plt.show()"
   ]
  },
  {
   "cell_type": "markdown",
   "id": "a9281055-7be3-42dc-be40-390f12c5ec74",
   "metadata": {},
   "source": [
    "#### Standard Normal Distribution"
   ]
  },
  {
   "cell_type": "markdown",
   "id": "a0e4a87f-acf7-4a54-965f-028c4fcc86df",
   "metadata": {},
   "source": [
    "The standard normal distribution is a special case normal distribution where the mean($\\mu$) is 0 and the standard deviation($\\sigma$) is 1.  \n",
    "The random variable of a standard normal distribution or z-distribution is known as the standard score or a z-score.   \n",
    "It is possible to transform every normal random variable X into a z score using the following formula:\n",
    "\n",
    "$ z = (X – \\mu) / \\sigma $\n",
    "\n",
    "![Standard Normal Distribution](img/stdndis.png)"
   ]
  },
  {
   "cell_type": "code",
   "execution_count": 16,
   "id": "97af6b50-0f8b-4d46-82a4-bafde0ffe75f",
   "metadata": {},
   "outputs": [
    {
     "data": {
      "image/png": "[encoded data removed]",
      "text/plain": [
       "<Figure size 500x500 with 1 Axes>"
      ]
     },
     "metadata": {},
     "output_type": "display_data"
    }
   ],
   "source": [
    "mu, sigma = 0, 1 # mean and standard deviation\n",
    "value = np.random.normal(mu, sig, size =10000)\n",
    "sns.displot(value, kde= False)\n",
    "plt.show()"
   ]
  },
  {
   "cell_type": "markdown",
   "id": "012ee86f-b004-4009-bbd8-a70de7b80455",
   "metadata": {},
   "source": [
    "##### Standard Normal Distribution Problem and Solution\n",
    "**Example 1:** For some computers, the time period between charges of the battery is normally distributed with a mean of 50 hours and a standard deviation of 15 hours. Rohan has one of these computers and needs to know the probability that the time period will be between 50 and 70 hours.  \n",
    "**Solution:**\n",
    "Solution: Let x be the random variable that represents the time period.  \n",
    "Given Mean, μ= 50  \n",
    "and standard deviation, σ = 15  \n",
    "**To find:** Probability that x is between 50 and 70 or P( 50< x < 70)  \n",
    "By using the transformation equation, we know:  \n",
    "$z = \\frac{X – μ}{σ}$  \n",
    "For x = 50 , z = (50 – 50) / 15 = 0  \n",
    "For x = 70 , z = (70 – 50) / 15 = 1.33  \n",
    "P( 50< x < 70) = P( 0< z < 1.33) = [area to the left of z = 1.33] – [area to the left of z = 0]  \n",
    "P( 0< z < 1.33) = 0.9082 – 0.5 = 0.4082  \n",
    "The probability that Rohan’s computer has a time period between 50 and 70 hours is equal to 0.4082.  \n",
    "\n",
    "**Example 2**: The speeds of cars are measured using a radar unit, on a motorway. The speeds are normally distributed with a mean of 90 km/hr and a standard deviation of 10 km/hr. What is the probability that a car selected at chance is moving at more than 100 km/hr?  \n",
    "**Solution:** Let the speed of cars is represented by a random variable ‘x’.  \n",
    "Now, given mean, μ = 90 and standard deviation, σ = 10.  \n",
    "**To find:** Probability that x is higher than 100 or P(x > 100)  \n",
    "By using the transformation equation, we know;  \n",
    "z = (X – μ) / σ  \n",
    "Hence,  \n",
    "For x = 100 , z = (100 – 90) / 10 = 1  \n",
    "P(x > 90) = P(z > 1) = [total area] – [area to the left of z = 1]  \n",
    "P(z > 1)  = 1 – 0.8413 = 0.1587"
   ]
  },
  {
   "cell_type": "markdown",
   "id": "6f2eea3d-9d80-4c5c-beab-599ffe85a9aa",
   "metadata": {},
   "source": [
    "### Continuous Uniform Distribution"
   ]
  },
  {
   "cell_type": "markdown",
   "id": "f14958eb-c1a3-4f70-97f3-d078c95cfb18",
   "metadata": {},
   "source": [
    "The density function of a continuous random variable $X$ on interval $[\\alpha,\\beta]$ is,  \n",
    "$f(x) = \\left\\{\\begin{array}{l l} \n",
    "\\frac{1}{\\beta-\\alpha}, & \\text{for}\\ \\alpha \\leq x\\leq \\beta \\\\ \n",
    "0, & \\text{otherwise} \n",
    "\\end{array}\\right.$  \n",
    "\n",
    "Mean : $\\frac{\\alpha + \\beta}{2} $  \n",
    "Variance : $\\frac{(\\beta + \\alpha)^2}{12} $"
   ]
  },
  {
   "cell_type": "markdown",
   "id": "34af03e2-bb32-4a08-a0c3-89a1f8d641d9",
   "metadata": {},
   "source": [
    "### Joint Probability Distributions\n",
    "Joint probability is the probability of two events happening together.   \n",
    "The two events are usually designated event A and event B. Denoted by p(A ∩ B)"
   ]
  },
  {
   "cell_type": "markdown",
   "id": "53fb53be-3b4c-4911-aaa5-e24ffa8701a1",
   "metadata": {},
   "source": [
    "#### Joint Probability Mass Function\n",
    "The function $f(x,y)$ of is a Prbability Mass Function of discrete random variable X and Y if,   \n",
    "1. $f(x,y) \\geq 0 $\n",
    "2. $\\sum_x \\sum_y f(x,y) = 1$\n",
    "3. $P(X=x,Y=y) = f(x,y)$"
   ]
  },
  {
   "cell_type": "markdown",
   "id": "71cb5697-3196-4518-a39f-66c76ab482df",
   "metadata": {},
   "source": [
    "$Example: $ Two ball point pen are selected from a box at random that contains 3 blue, 2 red and 3 green pens. If X and Y are random varible denoting the number of blue and red pens selected,\n",
    "1. find joint probability function $f(x,y)$.\n",
    "2. find $P(X,Y| x+y \\leq 1) $\n",
    "\n",
    "$Solution:$  \n",
    "1.   \n",
    "The possible pair of values for (x,y) are (0,0),(0,1),(1,0),(1,1),(2,0),(0,2).  \n",
    "Therefore the probability distribution function becomes, \n",
    "$f(x,y) = \\frac{\\binom 3x \\binom 2y \\binom {3}{2-x-y}}{\\binom 82}$  \n",
    "for $x$ = 0,1,2 and $y$ = 0,1,2 and $0 \\leq x+y \\leq 2$ \n",
    "\n",
    "2. $P(X,Y| x+y \\leq 1)  = f(0,0) + f(0,1) + f(1,0) = \\frac{3}{28} + \\frac{3}{14} + \\frac{9}{28} = \\frac{9}{14}$\n",
    "   ![Joint Probability Distribution](img/jointdescprobdis.png)\n",
    "\n",
    "   .\n"
   ]
  },
  {
   "cell_type": "markdown",
   "id": "575f7dc0-4eb4-4f65-8887-f149a4f3c1b5",
   "metadata": {},
   "source": [
    "**Problem:**   \n",
    "Find the probability that the number three will occur twice when two dice are rolled at the same time.  \n",
    "**Solution:**  \n",
    "Number of possible outcomes when a die is rolled = 6 i.e. {1, 2, 3, 4, 5, 6}    \n",
    "Let A be the event of occurring 3 on first die and B be the event of occurring 3 on the second die.  \n",
    "Both the dice have six possible outcomes, the probability of a three occurring on each die is 1/6.  \n",
    "P(A) =1/6  \n",
    "P(B)=1/6  \n",
    "P(A,B) = 1/6 x 1/6 = 1/36  \n",
    "\n",
    "**Example:**  \n",
    "1. The probability that a card is a five and black.    \n",
    "p(five and black) = 2/52 = 1/26. \n",
    "2. The Probability of getting Red Face Card.  \n",
    "p(Red and Face) = 6/52."
   ]
  },
  {
   "cell_type": "markdown",
   "id": "d8186166-3037-4797-94bd-f1a3c3cbb4ad",
   "metadata": {},
   "source": [
    "#### Joint Probability Density Function\n",
    "The function $f(x,y)$ of is a Prbability Density Function of continuous random variable X and Y if,   \n",
    "1. $f(x,y) \\geq 0 $\n",
    "2. $\\int_{-\\infty}^{\\infty} \\int_{-\\infty}^{\\infty}f(x,y) dxdy= 1$\n",
    "3. $P(X=x,Y=y) =\\int\\int f(x,y) dx dy$"
   ]
  },
  {
   "cell_type": "markdown",
   "id": "a26c1b1d-1ca4-432f-8e05-0b11bed21467",
   "metadata": {},
   "source": [
    "$Example :$ A privately owned business provides both walk-in and drive-in facility say X and Y resp. The joint density function of the random variables is given by   \n",
    "$f(x,y) = \\left\\{\\begin{array}{l l} \n",
    "\\frac{2}{5}(2x+3y), & \\text{for}\\ 0\\leq x\\leq 1, 0\\leq y\\leq 1 \\\\  \n",
    "0, & \\text{otherwise} \n",
    "\\end{array}\\right.$   \n",
    "1. Verify that it is a joint density function.\n",
    "2. Find $P(0 \\leq x \\leq \\frac{1}{2}, \\frac{1}{4} \\leq y \\leq \\frac{1}{2})$\n",
    "\n",
    "![Joint Density Function](img/jointcontiprobdis.png)"
   ]
  },
  {
   "cell_type": "markdown",
   "id": "c5122c27-53d8-491f-aaf9-59543cb36ec0",
   "metadata": {},
   "source": [
    "### Marginal Distribution"
   ]
  },
  {
   "cell_type": "markdown",
   "id": "0bed295e-4ed0-4e04-a224-a5886adef436",
   "metadata": {},
   "source": [
    "Discrete Case :  \n",
    "$g(x) = \\sum_y f(x,y)$  and $h(y) = \\sum_x f(x,y)$  \n",
    "\n",
    "Continuous Case :  \n",
    "$g(x) = \\int_{-\\infty}^{\\infty} f(x,y) dy$  and $h(y) = \\int_{-\\infty}^{\\infty} f(x,y) dx$"
   ]
  },
  {
   "cell_type": "markdown",
   "id": "24678393-c8b5-46f2-9b67-125ab532c37e",
   "metadata": {},
   "source": [
    "#### Statistical Independence  \n",
    "Let $X$ and $Y$ be two random variables with joint prob distribution $f(x,y)$  and marginal distributions as $g(x)$ and $h(y)$. Then random variables $X$ and $Y$  said to be Statisticaly Independent if $f(x,y) = g(x)h(y)$"
   ]
  },
  {
   "cell_type": "markdown",
   "id": "ddaf65ec-c357-4450-a7e0-cc616b22c813",
   "metadata": {},
   "source": [
    "## Chi-Square (Χ²) Distribution\n",
    "A chi-square (Χ2) distribution is a continuous probability distribution that is used in many hypothesis tests.  \n",
    "The shape of a chi-square distribution is determined by the parameter k, which represents the degrees of freedom.  \n",
    "Chi-square (Χ2) distributions are a family of continuous probability distributions.  \n",
    "\n",
    "**Relationship to the standard normal distribution**  \n",
    "Imagine taking a random sample of a standard normal distribution (Z). If you squared all the values in the sample, you would have the chi-square distribution with k = 1.  \n",
    "$\\chi^2_1 = (Z)^2$  \n",
    "\n",
    "Now imagine taking samples from two standard normal distributions (Z1 and Z2). If each time you sampled a pair of values, you squared them and added them together, you would have the chi-square distribution with k = 2.   \n",
    "$\\chi^2_2 = (Z_1)^2 + (Z_2)^2$  \n",
    "\n",
    "More generally, if you sample from k independent standard normal distributions and then square and sum the values, you’ll produce a chi-square distribution with k degrees of freedom.  \n",
    "$\\chi^2_3 = (Z_1)^2 + (Z_2)^2 +\\cdots+ (Z_k)^2$  \n",
    "\n",
    "**Formula:**\n",
    "$\\chi^2 = \\sum \\frac{(O-E)^2}{E}$  \n",
    "X² is the chi-square test statistic  \n",
    "$\\sum$ is the summation operator  \n",
    "$O$ is the observed frequency  \n",
    "$E$ is the expected frequency"
   ]
  },
  {
   "cell_type": "markdown",
   "id": "b510b177-2514-46cd-97b3-9533f6d4e0b5",
   "metadata": {},
   "source": []
  },
  {
   "cell_type": "markdown",
   "id": "6334680c-4a4f-44a3-a116-d2235a5e9ce0",
   "metadata": {},
   "source": []
  },
  {
   "cell_type": "markdown",
   "id": "e67d2a69-88ba-4897-8c02-df3873b52f9c",
   "metadata": {},
   "source": []
  },
  {
   "cell_type": "markdown",
   "id": "4c685e3b-6ba3-4f2d-a6ef-e3c83cf9175d",
   "metadata": {},
   "source": []
  },
  {
   "cell_type": "markdown",
   "id": "757d0a1a-c868-4f0c-85f8-25499dbc5dc3",
   "metadata": {},
   "source": []
  },
  {
   "cell_type": "markdown",
   "id": "aabe37f8-16df-4c8b-bef5-864e1db9a448",
   "metadata": {},
   "source": []
  },
  {
   "cell_type": "markdown",
   "id": "4edfb20d-46fa-4875-9831-0b80159ab0e4",
   "metadata": {},
   "source": []
  },
  {
   "cell_type": "markdown",
   "id": "2331f7e4-8b88-44e9-aea7-9ace845f9ab7",
   "metadata": {},
   "source": [
    "# Errors and Types"
   ]
  },
  {
   "cell_type": "markdown",
   "id": "dfb9db72-53c4-49ae-8a13-217dc18cf778",
   "metadata": {},
   "source": [
    "## Mean Absolute Error(MAE)\n",
    "MAE is defined as the average of the errors calculated.\n",
    "\n",
    "Here we calculate the modulus of the error, perform the summation and then divide the result by the number of data points.  \n",
    "\n",
    "It is a positive quantity and is not concerned about the direction.\n",
    "\n",
    "The formula is given by,   \n",
    "MAE = $\\frac{\\sum|y_{pred}-y_{actual}|}{N}$"
   ]
  },
  {
   "cell_type": "markdown",
   "id": "79e00dbc-8051-492f-9616-d76a6fd0be07",
   "metadata": {},
   "source": [
    "## Mean Squared Error(MSE)"
   ]
  },
  {
   "cell_type": "markdown",
   "id": "12caee3f-9556-4c9e-928d-30dd17e88772",
   "metadata": {},
   "source": [
    "The most commonly used metric is Mean Square error or MSE. It is a function used to calculate the loss.  \n",
    "\n",
    "We find the difference between the predicted values and the truth variable, square the result and then find the average over the whole dataset.   \n",
    "\n",
    "MSE is always positive as we square the values. \n",
    "\n",
    "The small the MSE better is the performance of our model.  \n",
    "\n",
    "The formula of MSE is given:  \n",
    "\n",
    "MSE = $\\frac{\\sum(y_{pred}-y_{actual})^2}{N}$  \n",
    ".\n"
   ]
  },
  {
   "cell_type": "markdown",
   "id": "23ef6ab5-cae9-41d2-bea4-363caa8f5a0e",
   "metadata": {},
   "source": [
    "## Root Mean Squared Error(RMSE)"
   ]
  },
  {
   "cell_type": "markdown",
   "id": "b4d15d13-2903-49ec-8387-14c44dd1876f",
   "metadata": {},
   "source": [
    "RMSE is a popular method and is the extended version of MSE(Mean Squared Error). \n",
    "\n",
    "This method is basically used to evaluate the performance of our model. \n",
    "\n",
    "It indicates how much the data points are spread around the best line. \n",
    "\n",
    "It is the standard deviation of the Mean squared error. \n",
    "\n",
    "A lower value means that the data point lies closer to the best fit line.\n",
    "\n",
    "The Formula is given by, \n",
    "\n",
    "RMSE = $\\sqrt{\\frac{\\sum(y_{pred}-y_{actual})^2}{N}}$\n",
    "\n",
    "."
   ]
  },
  {
   "cell_type": "markdown",
   "id": "2c50840f-57ff-46a2-99f8-5f7987939f38",
   "metadata": {},
   "source": [
    "## Mean Absolute Percentage Error (MAPE)"
   ]
  },
  {
   "cell_type": "markdown",
   "id": "2b9eb1ec-ff91-4f8b-99b6-ae8b15574397",
   "metadata": {},
   "source": [
    "MAPE is basically used to express the error in terms of percentage. \n",
    "\n",
    "It is defined as the difference between the actual and predicted value. \n",
    "\n",
    "The error is then divided by the actual value. \n",
    "\n",
    "The results are then summed up and finally, we calculate the average. \n",
    "\n",
    "Smaller the percentage better the performance of the model. \n",
    "\n",
    "The formula is given by,\n",
    "\n",
    "MAPE = $\\frac{\\frac{y_{pred}-y_{actual}}{y_{actual}}}{N} \\cdot 100 %$\n",
    "\n",
    "."
   ]
  },
  {
   "cell_type": "markdown",
   "id": "0267e6b9-b6dc-41e2-948a-0416cace1f01",
   "metadata": {},
   "source": []
  },
  {
   "cell_type": "markdown",
   "id": "3da7a4c7-4fae-4086-a56c-1d3c84d245cb",
   "metadata": {},
   "source": []
  },
  {
   "cell_type": "markdown",
   "id": "3e6f24ab-4144-41ab-b985-eca14dba96c0",
   "metadata": {},
   "source": []
  },
  {
   "cell_type": "markdown",
   "id": "298ef360-c291-4bd2-af86-b8ce5fd4f1b6",
   "metadata": {},
   "source": []
  },
  {
   "cell_type": "markdown",
   "id": "1fd2dc38-9ab4-4409-a190-ffed5ee01257",
   "metadata": {},
   "source": []
  },
  {
   "cell_type": "markdown",
   "id": "d1573107-994a-4005-a496-c4d7eda04a9a",
   "metadata": {},
   "source": []
  },
  {
   "cell_type": "markdown",
   "id": "8dec6ceb-dd4a-42a0-8ff6-8b2784e11e7d",
   "metadata": {},
   "source": []
  },
  {
   "cell_type": "markdown",
   "id": "d6715658-7006-43f1-a7c1-f02da6a95f2e",
   "metadata": {},
   "source": []
  },
  {
   "cell_type": "markdown",
   "id": "a45f52b1-fdbd-42ad-8155-24180f19a972",
   "metadata": {},
   "source": [
    "# **Inferential Statistics**\n",
    "---"
   ]
  },
  {
   "cell_type": "markdown",
   "id": "34ffb050-5a7c-4321-9129-f5c0a3093891",
   "metadata": {},
   "source": [
    "### Population and Samples"
   ]
  },
  {
   "cell_type": "markdown",
   "id": "2a8f9baa-1b1d-454d-8dbe-e935914c4aaf",
   "metadata": {},
   "source": [
    "Population : Everything in the group that we want to learn about.  \n",
    "eg. All of the people in Germany\t  \n",
    "Sample : A part of the population.  \n",
    "eg. 50000 Germans"
   ]
  },
  {
   "attachments": {},
   "cell_type": "markdown",
   "id": "d90e65d2-95ca-4c57-8521-221b870cbea2",
   "metadata": {},
   "source": [
    "#### Different Types of Sampling Methods"
   ]
  },
  {
   "cell_type": "markdown",
   "id": "a8c3937f-4ec7-4631-80ed-698d28e6ce14",
   "metadata": {},
   "source": [
    "##### Random Sampling\n",
    "A random sample is where every member of the population has an equal chance to be chosen.  \n",
    "Random sampling is the best. But, it can be difficult, or impossible, to make sure that it is completely random.\n",
    "##### Convenience Sampling\n",
    "A convenience sample is where the participants that are the easiest to reach are chosen.  \n",
    "For Example: choosing only doctors\n",
    "##### Systematic Sampling\n",
    "A systematic sample is where the participants are chosen by some regular system.  \n",
    "For example:\n",
    "1. The first 30 people in a queue\n",
    "2. Every third on a list\n",
    "3. The first 10 and the last 10\n",
    "\n",
    "##### Stratified Sampling\n",
    "A stratified sample is where the population is split into smaller groups called 'strata'.  \n",
    "The 'strata' can, for example, be based on demographics, like:  \n",
    "For example:\n",
    "1. Different age groups\n",
    "2. Professions\n",
    "##### Clustered Sampling\n",
    "A clustered sample is where the population is split into smaller groups called 'clusters'.  \n",
    "The clusters are usually natural, like different cities in a country.  \n",
    "The clusters are chosen randomly for the sample."
   ]
  },
  {
   "cell_type": "markdown",
   "id": "6965859f-e518-4782-8cae-9a034d7060f2",
   "metadata": {},
   "source": [
    "### Central Limit Theorem"
   ]
  },
  {
   "cell_type": "markdown",
   "id": "68dbca56-b9e8-49bc-af6f-4699b9415624",
   "metadata": {},
   "source": [
    "1. The central limit theorem is a statistical theory that states that the sampling distribution of the mean will always be normally distributed, as long as the sample size is large enough.\n",
    "2. Regardless of whether the population has a normal, Poisson, binomial, or any other distribution, the sampling distribution of the mean will be normal.\n",
    "3. The larger the value of the sample size, the better the approximation of the normal. This fact holds especially true for sample sizes over 30. As a sample size increases, the sample mean and standard deviation will be closer in value to the population mean and standard deviation.   \n",
    "4. The central limit theorem is one of the most important results in probability theory."
   ]
  },
  {
   "cell_type": "markdown",
   "id": "4479d072-0130-4fe6-8d6e-ca2c8e95d885",
   "metadata": {},
   "source": [
    "## Estimation"
   ]
  },
  {
   "cell_type": "markdown",
   "id": "85613472-3d4d-4823-888b-2d24eecff1ff",
   "metadata": {},
   "source": [
    "### The Point Estimate"
   ]
  },
  {
   "cell_type": "markdown",
   "id": "a0558df3-e3d7-4eca-af7c-0103bfc8309c",
   "metadata": {},
   "source": [
    "Point estimation is a statistical technique used to estimate an unknown population parameter based on sample data.   \n",
    "The goal is to find a single value (a point estimate) that provides the best estimate for the parameter of interest.   \n",
    "This point estimate is calculated from the sample data and serves as an approximation of the true, but often unknown, population parameter.  \n",
    "\n",
    "Example:-\n",
    "1. Average height of people is 180cm   "
   ]
  },
  {
   "cell_type": "markdown",
   "id": "a3131b0f-b592-4f14-acb7-20318d2ff562",
   "metadata": {},
   "source": [
    "### Confidence Intervals"
   ]
  },
  {
   "cell_type": "markdown",
   "id": "6482f665-af3f-44de-b7b8-62ba44b17f2a",
   "metadata": {},
   "source": [
    "The confidence interval is defined by a lower bound and an upper bound.  \n",
    "\n",
    "A confidence interval provides an “interval estimate” of an unknown\n",
    "parameter (as opposed to a “point estimate”).\n",
    "\n",
    "It is designed to contain the parameter’s value with some stated\n",
    "probability.\n",
    "\n",
    "The width of the interval provides a measure of the precision\n",
    "accuracy of the estimator involved.\n",
    "\n",
    "95% confidence intervals (α=0.05) are the most common.\n",
    "\n",
    "The correct interpretation of a 95% confidence interval (L, U) is that\n",
    "\"we are 95% confident that the population parameter is between L\n",
    "and U.\"\n",
    "\n",
    "Example:-\n",
    "1. Average height of people is in between 170cm to 190cm."
   ]
  },
  {
   "cell_type": "markdown",
   "id": "c9a911be-77a2-4966-b063-9d2c14b93641",
   "metadata": {},
   "source": [
    "### The Margin of Error"
   ]
  },
  {
   "cell_type": "markdown",
   "id": "cab65cd0-13aa-4e56-8e2d-c04b5dff1dca",
   "metadata": {
    "jp-MarkdownHeadingCollapsed": true
   },
   "source": [
    "The margin of error is the distance between the point estimate and the lower and upper bounds.  \n",
    "1. 5 cm margin of error: between 175 cm and 185 cm.  \n",
    "2. 10 cm margin of error: between 170 cm and 190 cm.  \n",
    "3. 20 cm margin of error: between 160 cm and 200 cm."
   ]
  },
  {
   "cell_type": "markdown",
   "id": "c47c0488-2094-40f4-bf2d-0cd0fde21e7d",
   "metadata": {},
   "source": [
    "## Hypothesis Testing."
   ]
  },
  {
   "cell_type": "markdown",
   "id": "72f930dc-9b7f-4121-ade6-99045af75652",
   "metadata": {
    "jp-MarkdownHeadingCollapsed": true
   },
   "source": [
    "Hypothesis testing is a formal way of checking if a hypothesis about a population is true or not.  \n",
    "A hypothesis is a claim about a population parameter.  \n",
    "  \n",
    "1. The average height of people in Denmark is more than 170 cm.\n",
    "2. The share of left handed people in Australia is not 10%.\n",
    "3. The average income of dentists is less the average income of lawyers."
   ]
  },
  {
   "cell_type": "markdown",
   "id": "6d7dc6e4-8307-4bf5-8f73-ebcca5d1ea69",
   "metadata": {},
   "source": [
    "### The Null and Alternative Hypothesis"
   ]
  },
  {
   "cell_type": "markdown",
   "id": "f3c62fe8-c982-487c-8dac-c727659933ef",
   "metadata": {},
   "source": [
    "Hypothesis testing is based on making two different claims about a population parameter.  \n",
    "The null hypothesis ($H_0$) and the alternative hypothesis ($H_1$) are the claims.  \n",
    "The two claims needs to be mutually exclusive, meaning only one of them can be true.  \n",
    "The alternative hypothesis is typically what we are trying to prove."
   ]
  },
  {
   "cell_type": "markdown",
   "id": "5c911e56-e425-4c3a-97ab-7510e377d818",
   "metadata": {},
   "source": [
    "Null hypothesis: The average height of people in Denmark is 170 cm.  $H_0$ : $\\mu = 170cm$   \n",
    "Alternative hypothesis: The average height of people in Denmark is not equal to 170 cm.  $H_1$ : $\\mu \\neq 170cm$"
   ]
  },
  {
   "cell_type": "markdown",
   "id": "8c55050f-4bf7-45ca-ab3c-fa3a3d72a5a5",
   "metadata": {},
   "source": [
    "If the data supports the alternative hypothesis, we reject the null hypothesis and accept the alternative hypothesis.  \n",
    "If the data does not support the alternative hypothesis, we keep the null hypothesis."
   ]
  },
  {
   "cell_type": "markdown",
   "id": "b93333f8-a662-4c2e-b6c2-2e68c9dfcc9d",
   "metadata": {},
   "source": []
  },
  {
   "cell_type": "markdown",
   "id": "a41f73d6-84f0-448e-afcc-53f15c687942",
   "metadata": {},
   "source": []
  },
  {
   "cell_type": "markdown",
   "id": "c2ac261f-ceea-4491-939c-926fbc6475c5",
   "metadata": {},
   "source": []
  },
  {
   "cell_type": "markdown",
   "id": "ba9b695d-859b-465e-a874-58927e773079",
   "metadata": {},
   "source": []
  },
  {
   "cell_type": "markdown",
   "id": "e9a09799-e739-40ea-b142-917ee5f07071",
   "metadata": {},
   "source": []
  },
  {
   "cell_type": "markdown",
   "id": "7961b6ad-0789-42d3-bc87-18681684748a",
   "metadata": {},
   "source": []
  },
  {
   "cell_type": "markdown",
   "id": "d188a8e5-408d-4b64-987f-d618cf5791fa",
   "metadata": {},
   "source": []
  },
  {
   "cell_type": "markdown",
   "id": "2470c2a0-b881-4a1d-a0fd-36571136e194",
   "metadata": {
    "editable": true,
    "slideshow": {
     "slide_type": ""
    },
    "tags": []
   },
   "source": [
    "# **Calculus for ML**\n",
    "---"
   ]
  },
  {
   "cell_type": "markdown",
   "id": "26014906-4ea4-4ed2-b352-48a199ef534a",
   "metadata": {},
   "source": [
    "## Derivatives"
   ]
  },
  {
   "cell_type": "markdown",
   "id": "910f171e-eb35-4e91-a3a8-d735f31ae696",
   "metadata": {},
   "source": [
    "A derivative can be defined in two ways:  \n",
    "1. Instantaneous rate of change (Physics)\n",
    "2. Slope of a line at a specific point (Geometry)\n",
    "\n",
    "Both represent the same principle, but for our purposes it’s easier to explain using the geometric definition.\n",
    "\n",
    "![Derivative](img/derivative.png)\n",
    "\n",
    "![Derivative](img/derivative2.png)\n"
   ]
  },
  {
   "cell_type": "markdown",
   "id": "8b155ea6-0deb-407f-8272-408682cff4dd",
   "metadata": {},
   "source": [
    "## Chain Rule"
   ]
  },
  {
   "cell_type": "markdown",
   "id": "aee19fc0-3ce7-4310-a210-c100b5670098",
   "metadata": {},
   "source": [
    "The chain rule is a rule for differentiating compositions of functions.\n",
    "\n",
    "**Rules to solve:**\n",
    "1. Identify The Chain Rule: The function must be a composite function, which means one function is nested over the other.  \n",
    "2. Identify the inner function and the outer function.\n",
    "3. Find the derivative of the outer function, leaving the inner function.\n",
    "4. Find the derivative of the inner function.\n",
    "5. Multiply the results from step 4 and step 3.\n",
    "6. Simplify the chain rule derivative.\n",
    "\n",
    "**Example:**\n",
    "1. $sin(log(x))$\n",
    "2. $sin(3x^2+2x+5)$\n",
    "3. $(1+ cos (2x))^2$\n",
    "4. $sin (cos (x^2))^2$\n",
    "\n",
    "**Applications of The Chain Rule**\n",
    "1. To find the time rate of change of the pressure.\n",
    "2. To calculate the rate of change of distance between two moving objects.\n",
    "3. To find the position of an object that is moving to the right and left in a particular interval.\n",
    "4. To determine if a function is increasing or decreasing.\n",
    "5. To find the rate of change of the average molecular speed."
   ]
  },
  {
   "cell_type": "markdown",
   "id": "2f682a45-b9c3-4772-be6b-5f93988f3d3a",
   "metadata": {},
   "source": [
    "## Integrals"
   ]
  },
  {
   "cell_type": "markdown",
   "id": "2ff3780b-793e-4fb9-b946-4094975a1f88",
   "metadata": {},
   "source": [
    "The integral of $f(x)$ corresponds to the computation of the area under the graph of $f(x)$. The area under $f(x)$ between the points $x=a$ and $x=b$ is denoted as $A(a,b)=∫^b_af(x)dx = F(b) - F(a)$\n",
    "\n",
    "![Integrals](img/integrals.png)\n",
    "\n",
    "**Common Integrals**\n",
    "1. $ \\int kƒ(x) dx = k ƒ(x) +C$\n",
    "2. $ \\int k dx = kx + C$\n",
    "3. $ \\int x^n dx = \\frac{x^{n+1}}{n+1} + C$\n",
    "4. $ \\int e^x dx = e^x + C$\n",
    "5. $ \\int a^x dx = a^x log(a) + C$\n",
    "6. $ \\int \\frac{dx}{x} = ln |x| + C$\n",
    "7. $ \\int sin x dx = -cos x + C$\n",
    "8. $ \\int cos x dx = sin x + C$\n",
    "9. $ \\int sec^2 x dx = tan x + C$\n",
    "10. $ \\int csc^2 x dx = -cot x + C$\n",
    "11. $ \\int sec x tan x dx = sec x + C$\n",
    "12. $ \\int csc x cot x dx = -csc x + C$\n",
    "13. $ \\int tan x dx = -ln |cos x| + C$\n",
    "14. $ \\int cot x dx = ln |sin x| + C$\n"
   ]
  },
  {
   "cell_type": "markdown",
   "id": "ab0897aa-631e-4493-b642-1da073cfa6ad",
   "metadata": {},
   "source": [
    "## Linear Algebra"
   ]
  },
  {
   "cell_type": "markdown",
   "id": "06a7d881-6c84-417a-b6a9-6c2bab71179b",
   "metadata": {},
   "source": [
    "**What is Linear Algebra?**  \n",
    "A branch of mathematics that is concerned with mathematical structures closed under the operations \n",
    "of addition and scalar multiplication and that includes the theory of systems of linear equations \n",
    "matrices, determinants, vector spaces, and linear transformations. Basically, it is the science  of\n",
    "numbers which empowers diverse Data Science algorithms and applications. To fully comprehend\n",
    "machine learning, linear algebra fundamentals are the essential prerequisite."
   ]
  },
  {
   "cell_type": "markdown",
   "id": "bc20027a-e0f9-449c-abba-96ddcf728c35",
   "metadata": {},
   "source": [
    "### Vectors\n",
    "Vectors are 1-dimensional arrays of numbers or terms.  \n",
    "In geometry, vectors store the magnitude and direction of a potential change to a point.  \n",
    "The vector [3, -2] says go right 3 and down 2.  \n",
    "A vector with more than one dimension is called a matrix.   \n",
    "A vector is a mathematical quantity with both magnitude and direction.  \n",
    "The magnitude of vector u, denoted |u|, is it's length.\n",
    "\n",
    "\\begin{split}v = \\begin{bmatrix}\n",
    "1 \\\\\n",
    "2 \\\\\n",
    "3 \\\\\n",
    "\\end{bmatrix}\n",
    "=\n",
    "\\begin{pmatrix}\n",
    "1 \\\\\n",
    "2 \\\\\n",
    "3 \\\\\n",
    "\\end{pmatrix}\n",
    "=\n",
    "\\begin{bmatrix}\n",
    "1 & 2 & 3\\\\\n",
    "\\end{bmatrix}\\end{split} ![Vector](img/vector.png)"
   ]
  },
  {
   "cell_type": "markdown",
   "id": "d6251bd3-3068-40f9-a13d-e59d58c1d161",
   "metadata": {},
   "source": [
    "Vector Properties : \n",
    "1. Vector Addition\n",
    "   - Comutative law : a + b = b + a\n",
    "   - Associative Law : (a + b) + c = a + (b + c)\n",
    "2. Dot Product\n",
    "   - a.b = b.a\n",
    "\n",
    "\n",
    "Cross Product\n",
    "   - Cross product of two vectors is the method of multiplication of two vectors.\n",
    "   - A cross product is denoted by the multiplication sign(x) between two vectors. It is a binary vector operation, defined in a three-dimensional system.\n",
    "   - The cross product of two vectors is the third vector that is perpendicular to the two original vectors.\n",
    "   - Its magnitude is given by the area of the parallelogram between them and its direction can be determined by the right-hand thumb rule.\n",
    "   - The Cross product of two vectors is also known as a vector product as the resultant of the cross product of vectors is a vector quantity.\n",
    "   - Here we shall learn more about the cross product of two vectors.\n",
    "   - If A and B are two independent vectors, then the result of the cross product of these two vectors (AxB) is perpendicular to both the vectors and normal to the plane that contains both the vectors.\n",
    "   - A x B= |A| |B| sin θ"
   ]
  },
  {
   "cell_type": "markdown",
   "id": "9e5c9572-1f23-4803-8df0-3a47892dbdd2",
   "metadata": {},
   "source": [
    "Orthogonal Vectors : Two Vector are Orthogonal if their dot product is zero."
   ]
  },
  {
   "cell_type": "markdown",
   "id": "a9a22deb-c302-4af7-84f6-52626c3c3bf7",
   "metadata": {},
   "source": [
    "Vector Norms : \n",
    "1. It is defined as the sum of magnitudes of each component\n",
    "   - L1 norm of vector a = |a1| + |a2| + |a3|\n",
    "2. It is defined as the square root of sum of squares of each component\n",
    "   - L2 norm of vector a = $\\sqrt{ a_1^2 + a_2^2 + a_3^2 }$ "
   ]
  },
  {
   "cell_type": "markdown",
   "id": "4c3e806e-acc2-45af-9000-1255365728b3",
   "metadata": {},
   "source": []
  },
  {
   "cell_type": "markdown",
   "id": "35da97c8-7a7d-45ee-b84c-bd0ddd23088d",
   "metadata": {
    "editable": true,
    "slideshow": {
     "slide_type": ""
    },
    "tags": []
   },
   "source": [
    "### Matrices\n",
    "\n",
    "If a matrix has m rows and n columns, then it will have m × \n",
    "n elements.  \n",
    " A matrix is represented by the uppercase letter, in this case, 'A', and the elements in the matrix are represented by the lower case letter and two subscripts representing the position of the element in the number of row and column in the same order, in this case, 'aij', where i is the number of rows, and j is the number of columns.\n",
    "\n",
    "$\\begin{split}\\begin{bmatrix}\n",
    "2 & 4 \\\\\n",
    "5 & -7 \\\\\n",
    "12 & 5 \\\\\n",
    "\\end{bmatrix}_{3x2}\n",
    "\\begin{bmatrix}\n",
    "a² & 2a & 8\\\\\n",
    "18 & 7a-4 & 10\\\\\n",
    "\\end{bmatrix}_{2x3}\\end{split}$  \n",
    "."
   ]
  },
  {
   "cell_type": "markdown",
   "id": "b2b63ebf-8d23-4f85-a102-4f505f42ed17",
   "metadata": {},
   "source": [
    "#### Types of Matrices"
   ]
  },
  {
   "cell_type": "markdown",
   "id": "527c502f-24be-4ce7-ab75-155b2ef908c8",
   "metadata": {},
   "source": [
    "Row matrix: A row matrix is a matrix having a single row is called a row matrix.\n",
    "\n",
    "Column matrix: A column matrix is a matrix having a single column is called a column matrix.\n",
    "\n",
    "Square matrix: A matrix having equal number of rows and columns is called a square matrix.\n",
    "\n",
    "Rectangular Matrix: A matrix having unequal number of rows and columns is called a rectangular matrix.\n",
    "\n",
    "Diagonal matrices: A matrix with all non-diagonal elements to be zeros is known as a diagonal matrix.\n",
    "\n",
    "Identity matrices: A diagonal matrix having all the diagonal elements equal to 1 is called an identity matrix.\n",
    "\n",
    "Symmetric matrices: A square matrix D of size n×n is considered to be symmetric if and only if $D^T= D$\n",
    "\n",
    "Skew-symmetric matrices: A square matrix F of size n×n is considered to be skew-symmetric if and only $D^T = -D$ \n",
    "\n",
    "Invertible Matrix: Any square matrix A is called invertible matrix, if \n",
    "there exists another matrix B, such that, AB = BA = In, where In is a \r\n",
    "identity matrix with n × n."
   ]
  },
  {
   "cell_type": "markdown",
   "id": "3d1c5afa-7b84-4b88-b2d4-e8ad3d3426ac",
   "metadata": {},
   "source": [
    "#### Determinant of Matrices\n",
    "\n",
    "The determinant of a matrix is the scalar value or number calculated using a square matrix. The square matrix could be 2×2, 3×3, 4×4, or any type, such as n × n, where the number of column and rows are equal.\n",
    "\n",
    "The determinant of a matrix is represented by two vertical lines or simply by writing det and writing the matrix name. eg. $|A|, det(A), det A$\n",
    "\n",
    "The value of the determinant of a 2 × 2 matrix can be given as `ad-bc`"
   ]
  },
  {
   "attachments": {
    "24070ce1-11e0-48e3-9cd6-ab53ba371aa7.png": {
     "image/png": "[encoded data removed]"
    },
    "639bf3fe-6637-451a-a358-46aebe2134c3.jpg": {
     "image/jpeg": "[encoded data removed]"
    }
   },
   "cell_type": "markdown",
   "id": "53d904e6-5114-4478-b2c4-0cc7039dff8b",
   "metadata": {},
   "source": [
    "#### Inverse of matrices\n",
    "\n",
    "The inverse of a matrix is another matrix that, when multiplied with the given matrix, yields the multiplicative identity.\n",
    "\n",
    "The inverse of A is $A^{-1}$ only when: $A(A^{-1}) = (A^{-1})A = I$ Sometimes there is no inverse at all.\n",
    "\n",
    "![inverse-matrix-3.jpg](attachment:639bf3fe-6637-451a-a358-46aebe2134c3.jpg)\n",
    "\n",
    "\n",
    "If A is a 3x3 Matrix then\n",
    "\n",
    "![inverse-of-3x3-matrix-formula.png](attachment:24070ce1-11e0-48e3-9cd6-ab53ba371aa7.png)"
   ]
  },
  {
   "cell_type": "markdown",
   "id": "8f1bfa88-370d-4ef3-9b00-97134b22766e",
   "metadata": {},
   "source": [
    "##### Scalar operations\n",
    "1. Scalar Addition\n",
    "\\begin{split}\\begin{bmatrix}\n",
    "2 & 3 \\\\\n",
    "2 & 3 \\\\\n",
    "2 & 3 \\\\\n",
    "\\end{bmatrix}\n",
    "+\n",
    "1\n",
    "=\n",
    "\\begin{bmatrix}\n",
    "3 & 4 \\\\\n",
    "3 & 4 \\\\\n",
    "3 & 4 \\\\\n",
    "\\end{bmatrix}\\end{split}\n",
    "\n",
    "2. Scalar Multiplication\n",
    "\\begin{split}\\begin{bmatrix}\n",
    "2 & 3 \\\\\n",
    "2 & 3 \\\\\n",
    "2 & 3 \\\\\n",
    "\\end{bmatrix}\n",
    "*\n",
    "2\n",
    "=\n",
    "\\begin{bmatrix}\n",
    "4 & 6 \\\\\n",
    "4 & 6 \\\\\n",
    "4 & 6 \\\\\n",
    "\\end{bmatrix}\\end{split}\n",
    "\n",
    "##### Matrix operations\n",
    "1. Matrix Addition\n",
    "\\begin{split}\\begin{bmatrix}\n",
    "1 & 2 \\\\\n",
    "3 & 4 \\\\\n",
    "5 & 6 \\\\\n",
    "\\end{bmatrix}_{3x2}\n",
    "+\n",
    "\\begin{bmatrix}\n",
    "3 & 5 \\\\\n",
    "6 & 4 \\\\\n",
    "3 & 2 \\\\\n",
    "\\end{bmatrix}_{3x2}\n",
    "=\n",
    "\\begin{bmatrix}\n",
    "4 & 7 \\\\\n",
    "9 & 8 \\\\\n",
    "8 & 8 \\\\\n",
    "\\end{bmatrix}_{3x2}\\end{split}\n",
    "\n",
    "2. Matrix Multiplication\n",
    "\\begin{split}\\begin{bmatrix}\n",
    "1 & 2 \\\\\n",
    "3 & 4 \\\\\n",
    "5 & 6 \\\\\n",
    "\\end{bmatrix}_{3x2}\n",
    "*\n",
    "\\begin{bmatrix}\n",
    "3 & 5 & 6\\\\\n",
    "6 & 4 & 4\\\\\n",
    "\\end{bmatrix}_{2x3}\n",
    "=\n",
    "\\begin{bmatrix}\n",
    "(1.3 + 2.6) & (1.5 + 2.4) & (1.6 + 2.4)\\\\\n",
    "(3.3 + 4.6) & (3.5 + 4.4) & (3.6 + 4.4)\\\\\n",
    "(5.3 + 6.6) & (5.5 + 6.4) & (5.6 + 6.4)\\\\\n",
    "\\end{bmatrix}_{3x3}\n",
    "=\n",
    "\\begin{bmatrix}\n",
    "15 & 13 & 14\\\\\n",
    "33 & 31 & 34\\\\\n",
    "51 & 49 & 54\\\\\n",
    "\\end{bmatrix}_{3x3}\\end{split}\n",
    "\n",
    "."
   ]
  },
  {
   "cell_type": "markdown",
   "id": "0d2dfffb-f2c0-4628-97ec-b67e4a5249a7",
   "metadata": {},
   "source": [
    "#### Eigenvalues : \n",
    "In order to find the eigen values we find the solution values for the equation  $=> det(A-\\lambda I) = 0$"
   ]
  },
  {
   "cell_type": "markdown",
   "id": "b506d522-6e5b-4176-8632-149ddd6306e3",
   "metadata": {},
   "source": [
    "$Problem:$ Find The eigen value of  $\\begin{bmatrix} 1 & -1 \\\\ 2 & 4 \\\\ \\end{bmatrix}$"
   ]
  },
  {
   "cell_type": "markdown",
   "id": "d0ce392b-d601-440f-9c9a-2636b86b58d1",
   "metadata": {},
   "source": [
    "$Solution:$  \n",
    "$det(A) = ad - bc = (1)*(4) - (-1)*(2) = 6$\n",
    "\n",
    "$$ det(\\begin{bmatrix} 1 & -1 \\\\ 2 & 4 \\\\ \\end{bmatrix} - \\lambda \\begin{bmatrix} 1 & 0 \\\\ 0 & 1 \\\\ \\end{bmatrix}) = 0$$  \n",
    "$$ det(\\begin{bmatrix} 1-\\lambda & -1 \\\\ 2 & 4-\\lambda \\\\ \\end{bmatrix} ) = 0$$  \n",
    "$$ (1- \\lambda)(4 - \\lambda) - (-1)(4) = 0$$\n",
    "$$ \\lambda = 1 ~~ or ~~ \\lambda = -2$$"
   ]
  },
  {
   "cell_type": "markdown",
   "id": "cb349644-3008-49a2-b185-ae328c26bfda",
   "metadata": {},
   "source": [
    "#### Eigen Vectors :\n",
    "\n",
    "![Eigen Vector](img/eigenvalue.png)"
   ]
  },
  {
   "cell_type": "markdown",
   "id": "5427d097-b51a-4565-8425-3829df62a27a",
   "metadata": {},
   "source": [
    "![Eigen vector](img/eigenvec2.png)"
   ]
  },
  {
   "cell_type": "code",
   "execution_count": null,
   "id": "9e8930ec-a3ed-4504-b96c-26e7cb459935",
   "metadata": {},
   "outputs": [],
   "source": []
  }
 ],
 "metadata": {
  "kernelspec": {
   "display_name": "Python 3 (ipykernel)",
   "language": "python",
   "name": "python3"
  },
  "language_info": {
   "codemirror_mode": {
    "name": "ipython",
    "version": 3
   },
   "file_extension": ".py",
   "mimetype": "text/x-python",
   "name": "python",
   "nbconvert_exporter": "python",
   "pygments_lexer": "ipython3",
   "version": "3.12.1"
  },
  "widgets": {
   "application/vnd.jupyter.widget-state+json": {
    "state": {},
    "version_major": 2,
    "version_minor": 0
   }
  }
 },
 "nbformat": 4,
 "nbformat_minor": 5
}
